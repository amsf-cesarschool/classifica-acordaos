{
 "cells": [
  {
   "cell_type": "markdown",
   "metadata": {},
   "source": [
    "# Análise da jurisprudência selecionada do TCE-PI"
   ]
  },
  {
   "cell_type": "markdown",
   "metadata": {},
   "source": [
    "## Introdução\n",
    "Analisa registros da lista de jurisprudência selecionada do TCE/PI e extrai código do processo (cod_tce) a partir do campo Sumario.\n",
    "\n",
    "Fonte: https://www.tce.pi.gov.br/legislacao/consulta-de-jurisprudencia-selecionada/ \n",
    "<br>Lista disponibilizada por Valney Galma\n",
    "\n",
    "Cria um modelo usando bag of words e TfIdf do sklearn\n",
    "\n",
    "Pretendia usar o campo AreaTematica como variável alvo. Porém, nesse dataset só existem 202 registros com 18 àreas temáticas distintas. As maiores são:\n",
    "\n",
    "| Área Temática       |Qtde| Área Temática       |Qtde|\n",
    "|---------------------|----|---------------------|----|\n",
    "| Licitação           | 38 | Contabilidade       | 8  |\n",
    "| Pessoal             | 35 | Agente Político     | 6  |\n",
    "| Processual          | 25 | Receita             | 5  |\n",
    "| Contrato            | 15 | Responsabilidade    | 4  |\n",
    "| Previdência         | 13 | Transparência       | 3  |\n",
    "| Educação            | 11 | Convênio e Instrumentos Congêneres    | 3  |\n",
    "| Câmara Municipal    | 10 | Planejamento                          | 3  |\n",
    "| Prestação de Contas | 8  | Controle Interno                      | 2  |\n",
    "\n",
    "Em função da pouca quantidade de registros na maioria das classes, fiz testes usando como alvo as 3 e 5 classes mais frequentes, agrupando as demais como 'Outros'. Também testei usando como variáveis indepentes Ementa e Sumário. **Melhores resultados obtidos foram usando apenas 3 classes alvo e o campo Ementa, com acurácia em torno de 75%**.\n",
    "\n",
    "Futuro: Analisar com um especialista de domínio a opção de fazer agrupamentos racionais dessas áreas. Usar em torno de 4 ou 5 grupos.\n",
    "\n",
    "Antonio Filho - 13/09/2020"
   ]
  },
  {
   "cell_type": "markdown",
   "metadata": {},
   "source": [
    "### Importação de bibliotecas"
   ]
  },
  {
   "cell_type": "code",
   "execution_count": 1,
   "metadata": {},
   "outputs": [],
   "source": [
    "import pandas as pd\n",
    "import numpy as np\n",
    "\n",
    "import matplotlib.pyplot as plt\n",
    "from pathlib import Path\n",
    "\n",
    "import re\n",
    "\n",
    "%matplotlib inline"
   ]
  },
  {
   "cell_type": "markdown",
   "metadata": {},
   "source": [
    "### Carregar os dados"
   ]
  },
  {
   "cell_type": "code",
   "execution_count": 2,
   "metadata": {},
   "outputs": [],
   "source": [
    "caminho_dados = Path(\"../../data/raw/\")\n",
    "df = pd.read_csv(caminho_dados/\"Jurisprudencia_selecionada_202009081234.csv\", sep=\",\", index_col=\"Codigo\")"
   ]
  },
  {
   "cell_type": "code",
   "execution_count": 3,
   "metadata": {},
   "outputs": [
    {
     "data": {
      "text/html": [
       "<div>\n",
       "<style scoped>\n",
       "    .dataframe tbody tr th:only-of-type {\n",
       "        vertical-align: middle;\n",
       "    }\n",
       "\n",
       "    .dataframe tbody tr th {\n",
       "        vertical-align: top;\n",
       "    }\n",
       "\n",
       "    .dataframe thead th {\n",
       "        text-align: right;\n",
       "    }\n",
       "</style>\n",
       "<table border=\"1\" class=\"dataframe\">\n",
       "  <thead>\n",
       "    <tr style=\"text-align: right;\">\n",
       "      <th></th>\n",
       "      <th>Orgao</th>\n",
       "      <th>Relator</th>\n",
       "      <th>TipodeProcesso</th>\n",
       "      <th>AreaTematica</th>\n",
       "      <th>Titulo</th>\n",
       "      <th>Ementa</th>\n",
       "      <th>Sumario</th>\n",
       "    </tr>\n",
       "    <tr>\n",
       "      <th>Codigo</th>\n",
       "      <th></th>\n",
       "      <th></th>\n",
       "      <th></th>\n",
       "      <th></th>\n",
       "      <th></th>\n",
       "      <th></th>\n",
       "      <th></th>\n",
       "    </tr>\n",
       "  </thead>\n",
       "  <tbody>\n",
       "    <tr>\n",
       "      <th>1</th>\n",
       "      <td>Primeira Câmara</td>\n",
       "      <td>Cons. Substituto Jaylson Fabianh Lopes Campelo</td>\n",
       "      <td>Representação</td>\n",
       "      <td>Contrato</td>\n",
       "      <td>Contrato. Proibição de contratar com o poder p...</td>\n",
       "      <td>CONTRATO. EMPRESA PROIBIDA DE CONTRATAR COM O ...</td>\n",
       "      <td>(Representação. Processo TC/005474/2015 – Rela...</td>\n",
       "    </tr>\n",
       "    <tr>\n",
       "      <th>2</th>\n",
       "      <td>Primeira Câmara</td>\n",
       "      <td>Cons. Kléber Dantas Eulálio</td>\n",
       "      <td>Prestação de Contas</td>\n",
       "      <td>Contrato</td>\n",
       "      <td>Contrato. Prorrogação contratual. Ausência de ...</td>\n",
       "      <td>LICITAÇÃO. PRORROGAÇÃO DE CONTRATOS EM DESCONF...</td>\n",
       "      <td>(Prestação de Contas. Processo TC/005353/2015 ...</td>\n",
       "    </tr>\n",
       "    <tr>\n",
       "      <th>3</th>\n",
       "      <td>Plenário</td>\n",
       "      <td>Cons. Luciano Nunes Santos</td>\n",
       "      <td>Representação</td>\n",
       "      <td>Educação</td>\n",
       "      <td>Educação. FUNDEF. Desbloqueio de recursos. Req...</td>\n",
       "      <td>DESBLOQUEIO PARCIAL DE RECURSOS. PROVA DE REGU...</td>\n",
       "      <td>(Representação. Processo TC/014686/2017 – Rela...</td>\n",
       "    </tr>\n",
       "    <tr>\n",
       "      <th>4</th>\n",
       "      <td>Primeira Câmara</td>\n",
       "      <td>Cons. Substituto Delano Carneiro da Cunha Câmara</td>\n",
       "      <td>Representação</td>\n",
       "      <td>Educação</td>\n",
       "      <td>Educação. Pagamento de gratificação de regênci...</td>\n",
       "      <td>PAGAMENTO ILEGAL DE GRATIFICAÇÃO DE REGÊNCIA P...</td>\n",
       "      <td>(Representação. Processo TC/024799/2017 – Rela...</td>\n",
       "    </tr>\n",
       "    <tr>\n",
       "      <th>5</th>\n",
       "      <td>Primeira Câmara</td>\n",
       "      <td>Cons. Luciano Nunes Santos</td>\n",
       "      <td>Prestação de Contas</td>\n",
       "      <td>Licitação</td>\n",
       "      <td>Licitação. Alienação de bens sem autorização l...</td>\n",
       "      <td>\"ALIENAÇÃO DE BENS SEM AUTORIZAÇÃO LEGISLATIVA...</td>\n",
       "      <td>(Prestação de Contas. Processo TC/002934/2016 ...</td>\n",
       "    </tr>\n",
       "  </tbody>\n",
       "</table>\n",
       "</div>"
      ],
      "text/plain": [
       "                  Orgao                                           Relator  \\\n",
       "Codigo                                                                      \n",
       "1       Primeira Câmara    Cons. Substituto Jaylson Fabianh Lopes Campelo   \n",
       "2       Primeira Câmara                       Cons. Kléber Dantas Eulálio   \n",
       "3              Plenário                        Cons. Luciano Nunes Santos   \n",
       "4       Primeira Câmara  Cons. Substituto Delano Carneiro da Cunha Câmara   \n",
       "5       Primeira Câmara                        Cons. Luciano Nunes Santos   \n",
       "\n",
       "             TipodeProcesso AreaTematica  \\\n",
       "Codigo                                     \n",
       "1             Representação     Contrato   \n",
       "2       Prestação de Contas     Contrato   \n",
       "3             Representação     Educação   \n",
       "4             Representação     Educação   \n",
       "5       Prestação de Contas    Licitação   \n",
       "\n",
       "                                                   Titulo  \\\n",
       "Codigo                                                      \n",
       "1       Contrato. Proibição de contratar com o poder p...   \n",
       "2       Contrato. Prorrogação contratual. Ausência de ...   \n",
       "3       Educação. FUNDEF. Desbloqueio de recursos. Req...   \n",
       "4       Educação. Pagamento de gratificação de regênci...   \n",
       "5       Licitação. Alienação de bens sem autorização l...   \n",
       "\n",
       "                                                   Ementa  \\\n",
       "Codigo                                                      \n",
       "1       CONTRATO. EMPRESA PROIBIDA DE CONTRATAR COM O ...   \n",
       "2       LICITAÇÃO. PRORROGAÇÃO DE CONTRATOS EM DESCONF...   \n",
       "3       DESBLOQUEIO PARCIAL DE RECURSOS. PROVA DE REGU...   \n",
       "4       PAGAMENTO ILEGAL DE GRATIFICAÇÃO DE REGÊNCIA P...   \n",
       "5       \"ALIENAÇÃO DE BENS SEM AUTORIZAÇÃO LEGISLATIVA...   \n",
       "\n",
       "                                                  Sumario  \n",
       "Codigo                                                     \n",
       "1       (Representação. Processo TC/005474/2015 – Rela...  \n",
       "2       (Prestação de Contas. Processo TC/005353/2015 ...  \n",
       "3       (Representação. Processo TC/014686/2017 – Rela...  \n",
       "4       (Representação. Processo TC/024799/2017 – Rela...  \n",
       "5       (Prestação de Contas. Processo TC/002934/2016 ...  "
      ]
     },
     "execution_count": 3,
     "metadata": {},
     "output_type": "execute_result"
    }
   ],
   "source": [
    "df.head()"
   ]
  },
  {
   "cell_type": "code",
   "execution_count": 4,
   "metadata": {},
   "outputs": [
    {
     "data": {
      "text/plain": [
       "(202, 7)"
      ]
     },
     "execution_count": 4,
     "metadata": {},
     "output_type": "execute_result"
    }
   ],
   "source": [
    "df.shape"
   ]
  },
  {
   "cell_type": "markdown",
   "metadata": {},
   "source": [
    "## Análise exploratória dos dados"
   ]
  },
  {
   "cell_type": "code",
   "execution_count": 5,
   "metadata": {},
   "outputs": [
    {
     "data": {
      "text/plain": [
       "18"
      ]
     },
     "execution_count": 5,
     "metadata": {},
     "output_type": "execute_result"
    }
   ],
   "source": [
    "df.AreaTematica.unique().size"
   ]
  },
  {
   "cell_type": "code",
   "execution_count": 6,
   "metadata": {},
   "outputs": [
    {
     "data": {
      "text/plain": [
       "Licitação                             38\n",
       "Pessoal                               35\n",
       "Processual                            26\n",
       "Contrato                              15\n",
       "Previdência                           13\n",
       "Educação                              11\n",
       "Câmara Municipal                      10\n",
       "Contabilidade                          8\n",
       "Prestação de Contas                    8\n",
       "Despesa                                6\n",
       "Saúde                                  6\n",
       "Agente Político                        6\n",
       "Receita                                5\n",
       "Responsabilidade                       4\n",
       "Transparência                          3\n",
       "Planejamento                           3\n",
       "Convênio e Instrumentos Congêneres     3\n",
       "Controle Interno                       2\n",
       "Name: AreaTematica, dtype: int64"
      ]
     },
     "execution_count": 6,
     "metadata": {},
     "output_type": "execute_result"
    }
   ],
   "source": [
    "df.AreaTematica.value_counts()"
   ]
  },
  {
   "cell_type": "code",
   "execution_count": 7,
   "metadata": {},
   "outputs": [
    {
     "data": {
      "text/plain": [
       "Prestação de Contas                 101\n",
       "Denúncia                             33\n",
       "Recursos                             30\n",
       "Representação                        11\n",
       "Consulta                              9\n",
       "Auditoria e Inspeção                  7\n",
       "Apreciação da legalidade de atos      7\n",
       "Revisão                               4\n",
       "Name: TipodeProcesso, dtype: int64"
      ]
     },
     "execution_count": 7,
     "metadata": {},
     "output_type": "execute_result"
    }
   ],
   "source": [
    "df.TipodeProcesso.value_counts()"
   ]
  },
  {
   "cell_type": "code",
   "execution_count": 8,
   "metadata": {},
   "outputs": [
    {
     "data": {
      "text/plain": [
       "Cons. Abelardo Pio Vilanova e Silva                       32\n",
       "Cons. Substituto Jaylson Fabianh Lopes Campelo            28\n",
       "Cons.ª Lílian de Almeida Veloso Nunes Martins             26\n",
       "Cons.ª Waltânia Maria Nogueira de Sousa Leal Alvarenga    22\n",
       "Cons. Joaquim Kennedy Nogueira Barros                     22\n",
       " Cons. Substituto Jackson Nobre Veras                     19\n",
       "Cons. Substituto Delano Carneiro da Cunha Câmara          16\n",
       "Cons. Kléber Dantas Eulálio                               16\n",
       "Cons. Luciano Nunes Santos                                14\n",
       "Cons. Substituto Alisson Felipe Araújo                     7\n",
       "Name: Relator, dtype: int64"
      ]
     },
     "execution_count": 8,
     "metadata": {},
     "output_type": "execute_result"
    }
   ],
   "source": [
    "df.Relator.value_counts()"
   ]
  },
  {
   "cell_type": "code",
   "execution_count": 9,
   "metadata": {},
   "outputs": [
    {
     "data": {
      "text/plain": [
       "<matplotlib.axes._subplots.AxesSubplot at 0x1d2b5e71608>"
      ]
     },
     "execution_count": 9,
     "metadata": {},
     "output_type": "execute_result"
    },
    {
     "data": {
      "image/png": "[encoded data removed]",
      "text/plain": [
       "<Figure size 432x288 with 1 Axes>"
      ]
     },
     "metadata": {
      "needs_background": "light"
     },
     "output_type": "display_data"
    }
   ],
   "source": [
    "df.Orgao.value_counts().plot(kind='bar')"
   ]
  },
  {
   "cell_type": "code",
   "execution_count": 10,
   "metadata": {},
   "outputs": [
    {
     "data": {
      "text/html": [
       "<div>\n",
       "<style scoped>\n",
       "    .dataframe tbody tr th:only-of-type {\n",
       "        vertical-align: middle;\n",
       "    }\n",
       "\n",
       "    .dataframe tbody tr th {\n",
       "        vertical-align: top;\n",
       "    }\n",
       "\n",
       "    .dataframe thead th {\n",
       "        text-align: right;\n",
       "    }\n",
       "</style>\n",
       "<table border=\"1\" class=\"dataframe\">\n",
       "  <thead>\n",
       "    <tr style=\"text-align: right;\">\n",
       "      <th></th>\n",
       "      <th>Orgao</th>\n",
       "      <th>Relator</th>\n",
       "      <th>TipodeProcesso</th>\n",
       "      <th>AreaTematica</th>\n",
       "      <th>Titulo</th>\n",
       "      <th>Ementa</th>\n",
       "      <th>Sumario</th>\n",
       "    </tr>\n",
       "    <tr>\n",
       "      <th>Codigo</th>\n",
       "      <th></th>\n",
       "      <th></th>\n",
       "      <th></th>\n",
       "      <th></th>\n",
       "      <th></th>\n",
       "      <th></th>\n",
       "      <th></th>\n",
       "    </tr>\n",
       "  </thead>\n",
       "  <tbody>\n",
       "    <tr>\n",
       "      <th>1</th>\n",
       "      <td>False</td>\n",
       "      <td>False</td>\n",
       "      <td>False</td>\n",
       "      <td>False</td>\n",
       "      <td>False</td>\n",
       "      <td>False</td>\n",
       "      <td>False</td>\n",
       "    </tr>\n",
       "    <tr>\n",
       "      <th>2</th>\n",
       "      <td>False</td>\n",
       "      <td>False</td>\n",
       "      <td>False</td>\n",
       "      <td>False</td>\n",
       "      <td>False</td>\n",
       "      <td>False</td>\n",
       "      <td>False</td>\n",
       "    </tr>\n",
       "    <tr>\n",
       "      <th>3</th>\n",
       "      <td>False</td>\n",
       "      <td>False</td>\n",
       "      <td>False</td>\n",
       "      <td>False</td>\n",
       "      <td>False</td>\n",
       "      <td>False</td>\n",
       "      <td>False</td>\n",
       "    </tr>\n",
       "    <tr>\n",
       "      <th>4</th>\n",
       "      <td>False</td>\n",
       "      <td>False</td>\n",
       "      <td>False</td>\n",
       "      <td>False</td>\n",
       "      <td>False</td>\n",
       "      <td>False</td>\n",
       "      <td>False</td>\n",
       "    </tr>\n",
       "    <tr>\n",
       "      <th>5</th>\n",
       "      <td>False</td>\n",
       "      <td>False</td>\n",
       "      <td>False</td>\n",
       "      <td>False</td>\n",
       "      <td>False</td>\n",
       "      <td>False</td>\n",
       "      <td>False</td>\n",
       "    </tr>\n",
       "    <tr>\n",
       "      <th>...</th>\n",
       "      <td>...</td>\n",
       "      <td>...</td>\n",
       "      <td>...</td>\n",
       "      <td>...</td>\n",
       "      <td>...</td>\n",
       "      <td>...</td>\n",
       "      <td>...</td>\n",
       "    </tr>\n",
       "    <tr>\n",
       "      <th>198</th>\n",
       "      <td>False</td>\n",
       "      <td>False</td>\n",
       "      <td>False</td>\n",
       "      <td>False</td>\n",
       "      <td>False</td>\n",
       "      <td>False</td>\n",
       "      <td>False</td>\n",
       "    </tr>\n",
       "    <tr>\n",
       "      <th>199</th>\n",
       "      <td>False</td>\n",
       "      <td>False</td>\n",
       "      <td>False</td>\n",
       "      <td>False</td>\n",
       "      <td>False</td>\n",
       "      <td>False</td>\n",
       "      <td>False</td>\n",
       "    </tr>\n",
       "    <tr>\n",
       "      <th>200</th>\n",
       "      <td>False</td>\n",
       "      <td>False</td>\n",
       "      <td>False</td>\n",
       "      <td>False</td>\n",
       "      <td>False</td>\n",
       "      <td>False</td>\n",
       "      <td>False</td>\n",
       "    </tr>\n",
       "    <tr>\n",
       "      <th>201</th>\n",
       "      <td>False</td>\n",
       "      <td>False</td>\n",
       "      <td>False</td>\n",
       "      <td>False</td>\n",
       "      <td>False</td>\n",
       "      <td>False</td>\n",
       "      <td>False</td>\n",
       "    </tr>\n",
       "    <tr>\n",
       "      <th>202</th>\n",
       "      <td>False</td>\n",
       "      <td>False</td>\n",
       "      <td>False</td>\n",
       "      <td>False</td>\n",
       "      <td>False</td>\n",
       "      <td>False</td>\n",
       "      <td>False</td>\n",
       "    </tr>\n",
       "  </tbody>\n",
       "</table>\n",
       "<p>202 rows × 7 columns</p>\n",
       "</div>"
      ],
      "text/plain": [
       "        Orgao  Relator  TipodeProcesso  AreaTematica  Titulo  Ementa  Sumario\n",
       "Codigo                                                                       \n",
       "1       False    False           False         False   False   False    False\n",
       "2       False    False           False         False   False   False    False\n",
       "3       False    False           False         False   False   False    False\n",
       "4       False    False           False         False   False   False    False\n",
       "5       False    False           False         False   False   False    False\n",
       "...       ...      ...             ...           ...     ...     ...      ...\n",
       "198     False    False           False         False   False   False    False\n",
       "199     False    False           False         False   False   False    False\n",
       "200     False    False           False         False   False   False    False\n",
       "201     False    False           False         False   False   False    False\n",
       "202     False    False           False         False   False   False    False\n",
       "\n",
       "[202 rows x 7 columns]"
      ]
     },
     "execution_count": 10,
     "metadata": {},
     "output_type": "execute_result"
    }
   ],
   "source": [
    "df.isna()"
   ]
  },
  {
   "cell_type": "markdown",
   "metadata": {},
   "source": [
    "## Feature Engineering"
   ]
  },
  {
   "cell_type": "markdown",
   "metadata": {},
   "source": [
    "### Extrair código do processo (cod_tce)"
   ]
  },
  {
   "cell_type": "code",
   "execution_count": 11,
   "metadata": {},
   "outputs": [],
   "source": [
    "def retorna_processo(texto):\n",
    "    regex = r\"Processo TC.*/\\d+/\\d+\"\n",
    "    matches = re.search(regex, texto, re.MULTILINE | re.IGNORECASE)\n",
    "    if matches:\n",
    "        processo = matches.group(0)\n",
    "        regex = r\"\\d+/\\d+\"\n",
    "        match = re.search(regex, processo)\n",
    "        if match:\n",
    "            numero, ano = match.group(0).split('/')\n",
    "            numero = str(numero).zfill(6)\n",
    "            if len(ano) == 2: \n",
    "                ano = '20' + ano\n",
    "            \n",
    "            return numero + '/' + ano\n",
    "    \n",
    "    return None"
   ]
  },
  {
   "cell_type": "code",
   "execution_count": 12,
   "metadata": {},
   "outputs": [
    {
     "data": {
      "text/plain": [
       "'(Tomada de Contas Especial. Processo TC/009309/2016 – Relator: Cons. Substituto Jackson Nobre Veras. Plenário. Decisão Unânime. Acórdão nº 652/18 publicado no DOE/TCE-PI º 089/18)'"
      ]
     },
     "execution_count": 12,
     "metadata": {},
     "output_type": "execute_result"
    }
   ],
   "source": [
    "df.iloc[25]['Sumario']"
   ]
  },
  {
   "cell_type": "code",
   "execution_count": 13,
   "metadata": {},
   "outputs": [
    {
     "data": {
      "text/plain": [
       "'009309/2016'"
      ]
     },
     "execution_count": 13,
     "metadata": {},
     "output_type": "execute_result"
    }
   ],
   "source": [
    "retorna_processo(df.iloc[25]['Sumario'])"
   ]
  },
  {
   "cell_type": "code",
   "execution_count": 14,
   "metadata": {},
   "outputs": [],
   "source": [
    "df['cod_tce'] = df['Sumario'].apply(lambda x: retorna_processo(x))"
   ]
  },
  {
   "cell_type": "code",
   "execution_count": 15,
   "metadata": {},
   "outputs": [
    {
     "data": {
      "text/plain": [
       "Codigo\n",
       "1      005474/2015\n",
       "2      005353/2015\n",
       "3      014686/2017\n",
       "4      024799/2017\n",
       "5      002934/2016\n",
       "          ...     \n",
       "198    003050/2016\n",
       "199    002922/2016\n",
       "200    015779/2018\n",
       "201    002891/2016\n",
       "202    003078/2016\n",
       "Name: cod_tce, Length: 202, dtype: object"
      ]
     },
     "execution_count": 15,
     "metadata": {},
     "output_type": "execute_result"
    }
   ],
   "source": [
    "df['cod_tce']"
   ]
  },
  {
   "cell_type": "markdown",
   "metadata": {},
   "source": [
    "#### Procurar cod_tce faltantes"
   ]
  },
  {
   "cell_type": "code",
   "execution_count": 16,
   "metadata": {},
   "outputs": [
    {
     "data": {
      "text/plain": [
       "0"
      ]
     },
     "execution_count": 16,
     "metadata": {},
     "output_type": "execute_result"
    }
   ],
   "source": [
    "df.cod_tce.isna().sum()"
   ]
  },
  {
   "cell_type": "code",
   "execution_count": 17,
   "metadata": {},
   "outputs": [
    {
     "data": {
      "text/html": [
       "<div>\n",
       "<style scoped>\n",
       "    .dataframe tbody tr th:only-of-type {\n",
       "        vertical-align: middle;\n",
       "    }\n",
       "\n",
       "    .dataframe tbody tr th {\n",
       "        vertical-align: top;\n",
       "    }\n",
       "\n",
       "    .dataframe thead th {\n",
       "        text-align: right;\n",
       "    }\n",
       "</style>\n",
       "<table border=\"1\" class=\"dataframe\">\n",
       "  <thead>\n",
       "    <tr style=\"text-align: right;\">\n",
       "      <th></th>\n",
       "      <th>Orgao</th>\n",
       "      <th>Relator</th>\n",
       "      <th>TipodeProcesso</th>\n",
       "      <th>AreaTematica</th>\n",
       "      <th>Titulo</th>\n",
       "      <th>Ementa</th>\n",
       "      <th>Sumario</th>\n",
       "      <th>cod_tce</th>\n",
       "    </tr>\n",
       "    <tr>\n",
       "      <th>Codigo</th>\n",
       "      <th></th>\n",
       "      <th></th>\n",
       "      <th></th>\n",
       "      <th></th>\n",
       "      <th></th>\n",
       "      <th></th>\n",
       "      <th></th>\n",
       "      <th></th>\n",
       "    </tr>\n",
       "  </thead>\n",
       "  <tbody>\n",
       "  </tbody>\n",
       "</table>\n",
       "</div>"
      ],
      "text/plain": [
       "Empty DataFrame\n",
       "Columns: [Orgao, Relator, TipodeProcesso, AreaTematica, Titulo, Ementa, Sumario, cod_tce]\n",
       "Index: []"
      ]
     },
     "execution_count": 17,
     "metadata": {},
     "output_type": "execute_result"
    }
   ],
   "source": [
    "df[df.cod_tce.isna()]"
   ]
  },
  {
   "cell_type": "code",
   "execution_count": 18,
   "metadata": {},
   "outputs": [
    {
     "data": {
      "text/plain": [
       "'(Admissão de Pessoal. Processo TC-O/022734/2010 – Cons. Luciano Nunes Santos. Primeira Câmara. Decisão Unânime. Acórdão nº 207/18 publicado no DOE/TCE-PI º 164/18)'"
      ]
     },
     "execution_count": 18,
     "metadata": {},
     "output_type": "execute_result"
    }
   ],
   "source": [
    "df.loc[165]['Sumario']"
   ]
  },
  {
   "cell_type": "code",
   "execution_count": 19,
   "metadata": {},
   "outputs": [
    {
     "data": {
      "text/plain": [
       "'022734/2010'"
      ]
     },
     "execution_count": 19,
     "metadata": {},
     "output_type": "execute_result"
    }
   ],
   "source": [
    "retorna_processo(df.loc[165]['Sumario'])"
   ]
  },
  {
   "cell_type": "code",
   "execution_count": 20,
   "metadata": {},
   "outputs": [
    {
     "data": {
      "text/html": [
       "<div>\n",
       "<style scoped>\n",
       "    .dataframe tbody tr th:only-of-type {\n",
       "        vertical-align: middle;\n",
       "    }\n",
       "\n",
       "    .dataframe tbody tr th {\n",
       "        vertical-align: top;\n",
       "    }\n",
       "\n",
       "    .dataframe thead th {\n",
       "        text-align: right;\n",
       "    }\n",
       "</style>\n",
       "<table border=\"1\" class=\"dataframe\">\n",
       "  <thead>\n",
       "    <tr style=\"text-align: right;\">\n",
       "      <th></th>\n",
       "      <th>Orgao</th>\n",
       "      <th>Relator</th>\n",
       "      <th>TipodeProcesso</th>\n",
       "      <th>AreaTematica</th>\n",
       "      <th>Titulo</th>\n",
       "      <th>Ementa</th>\n",
       "      <th>Sumario</th>\n",
       "      <th>cod_tce</th>\n",
       "    </tr>\n",
       "    <tr>\n",
       "      <th>Codigo</th>\n",
       "      <th></th>\n",
       "      <th></th>\n",
       "      <th></th>\n",
       "      <th></th>\n",
       "      <th></th>\n",
       "      <th></th>\n",
       "      <th></th>\n",
       "      <th></th>\n",
       "    </tr>\n",
       "  </thead>\n",
       "  <tbody>\n",
       "    <tr>\n",
       "      <th>1</th>\n",
       "      <td>Primeira Câmara</td>\n",
       "      <td>Cons. Substituto Jaylson Fabianh Lopes Campelo</td>\n",
       "      <td>Representação</td>\n",
       "      <td>Contrato</td>\n",
       "      <td>Contrato. Proibição de contratar com o poder p...</td>\n",
       "      <td>CONTRATO. EMPRESA PROIBIDA DE CONTRATAR COM O ...</td>\n",
       "      <td>(Representação. Processo TC/005474/2015 – Rela...</td>\n",
       "      <td>005474/2015</td>\n",
       "    </tr>\n",
       "    <tr>\n",
       "      <th>2</th>\n",
       "      <td>Primeira Câmara</td>\n",
       "      <td>Cons. Kléber Dantas Eulálio</td>\n",
       "      <td>Prestação de Contas</td>\n",
       "      <td>Contrato</td>\n",
       "      <td>Contrato. Prorrogação contratual. Ausência de ...</td>\n",
       "      <td>LICITAÇÃO. PRORROGAÇÃO DE CONTRATOS EM DESCONF...</td>\n",
       "      <td>(Prestação de Contas. Processo TC/005353/2015 ...</td>\n",
       "      <td>005353/2015</td>\n",
       "    </tr>\n",
       "    <tr>\n",
       "      <th>3</th>\n",
       "      <td>Plenário</td>\n",
       "      <td>Cons. Luciano Nunes Santos</td>\n",
       "      <td>Representação</td>\n",
       "      <td>Educação</td>\n",
       "      <td>Educação. FUNDEF. Desbloqueio de recursos. Req...</td>\n",
       "      <td>DESBLOQUEIO PARCIAL DE RECURSOS. PROVA DE REGU...</td>\n",
       "      <td>(Representação. Processo TC/014686/2017 – Rela...</td>\n",
       "      <td>014686/2017</td>\n",
       "    </tr>\n",
       "    <tr>\n",
       "      <th>4</th>\n",
       "      <td>Primeira Câmara</td>\n",
       "      <td>Cons. Substituto Delano Carneiro da Cunha Câmara</td>\n",
       "      <td>Representação</td>\n",
       "      <td>Educação</td>\n",
       "      <td>Educação. Pagamento de gratificação de regênci...</td>\n",
       "      <td>PAGAMENTO ILEGAL DE GRATIFICAÇÃO DE REGÊNCIA P...</td>\n",
       "      <td>(Representação. Processo TC/024799/2017 – Rela...</td>\n",
       "      <td>024799/2017</td>\n",
       "    </tr>\n",
       "    <tr>\n",
       "      <th>5</th>\n",
       "      <td>Primeira Câmara</td>\n",
       "      <td>Cons. Luciano Nunes Santos</td>\n",
       "      <td>Prestação de Contas</td>\n",
       "      <td>Licitação</td>\n",
       "      <td>Licitação. Alienação de bens sem autorização l...</td>\n",
       "      <td>\"ALIENAÇÃO DE BENS SEM AUTORIZAÇÃO LEGISLATIVA...</td>\n",
       "      <td>(Prestação de Contas. Processo TC/002934/2016 ...</td>\n",
       "      <td>002934/2016</td>\n",
       "    </tr>\n",
       "  </tbody>\n",
       "</table>\n",
       "</div>"
      ],
      "text/plain": [
       "                  Orgao                                           Relator  \\\n",
       "Codigo                                                                      \n",
       "1       Primeira Câmara    Cons. Substituto Jaylson Fabianh Lopes Campelo   \n",
       "2       Primeira Câmara                       Cons. Kléber Dantas Eulálio   \n",
       "3              Plenário                        Cons. Luciano Nunes Santos   \n",
       "4       Primeira Câmara  Cons. Substituto Delano Carneiro da Cunha Câmara   \n",
       "5       Primeira Câmara                        Cons. Luciano Nunes Santos   \n",
       "\n",
       "             TipodeProcesso AreaTematica  \\\n",
       "Codigo                                     \n",
       "1             Representação     Contrato   \n",
       "2       Prestação de Contas     Contrato   \n",
       "3             Representação     Educação   \n",
       "4             Representação     Educação   \n",
       "5       Prestação de Contas    Licitação   \n",
       "\n",
       "                                                   Titulo  \\\n",
       "Codigo                                                      \n",
       "1       Contrato. Proibição de contratar com o poder p...   \n",
       "2       Contrato. Prorrogação contratual. Ausência de ...   \n",
       "3       Educação. FUNDEF. Desbloqueio de recursos. Req...   \n",
       "4       Educação. Pagamento de gratificação de regênci...   \n",
       "5       Licitação. Alienação de bens sem autorização l...   \n",
       "\n",
       "                                                   Ementa  \\\n",
       "Codigo                                                      \n",
       "1       CONTRATO. EMPRESA PROIBIDA DE CONTRATAR COM O ...   \n",
       "2       LICITAÇÃO. PRORROGAÇÃO DE CONTRATOS EM DESCONF...   \n",
       "3       DESBLOQUEIO PARCIAL DE RECURSOS. PROVA DE REGU...   \n",
       "4       PAGAMENTO ILEGAL DE GRATIFICAÇÃO DE REGÊNCIA P...   \n",
       "5       \"ALIENAÇÃO DE BENS SEM AUTORIZAÇÃO LEGISLATIVA...   \n",
       "\n",
       "                                                  Sumario      cod_tce  \n",
       "Codigo                                                                  \n",
       "1       (Representação. Processo TC/005474/2015 – Rela...  005474/2015  \n",
       "2       (Prestação de Contas. Processo TC/005353/2015 ...  005353/2015  \n",
       "3       (Representação. Processo TC/014686/2017 – Rela...  014686/2017  \n",
       "4       (Representação. Processo TC/024799/2017 – Rela...  024799/2017  \n",
       "5       (Prestação de Contas. Processo TC/002934/2016 ...  002934/2016  "
      ]
     },
     "execution_count": 20,
     "metadata": {},
     "output_type": "execute_result"
    }
   ],
   "source": [
    "df.head()"
   ]
  },
  {
   "cell_type": "markdown",
   "metadata": {},
   "source": [
    "## Criar modelo para predição de classes"
   ]
  },
  {
   "cell_type": "markdown",
   "metadata": {},
   "source": [
    "### Importar bibliotecas do scikit Learning"
   ]
  },
  {
   "cell_type": "code",
   "execution_count": 21,
   "metadata": {},
   "outputs": [
    {
     "name": "stdout",
     "output_type": "stream",
     "text": [
      "Automatically created module for IPython interactive environment\n"
     ]
    }
   ],
   "source": [
    "from sklearn.feature_extraction.text import CountVectorizer\n",
    "from sklearn.feature_extraction.text import TfidfTransformer\n",
    "from sklearn.linear_model import SGDClassifier\n",
    "from sklearn.model_selection import GridSearchCV  # Busca os melhores parâmetros para o treinamento\n",
    "from sklearn.model_selection import train_test_split\n",
    "\n",
    "from sklearn.pipeline import Pipeline\n",
    "\n",
    "from pprint import pprint\n",
    "from time import time\n",
    "import logging\n",
    "\n",
    "print(__doc__)\n",
    "# Display progress logs on stdout (Ajuda a entender em que ponto está a execução. Útl para as combinações feitas pelo GridAearch)\n",
    "logging.basicConfig(level=logging.INFO,format='%(asctime)s %(levelname)s %(message)s')"
   ]
  },
  {
   "cell_type": "markdown",
   "metadata": {},
   "source": [
    "### Modelo baseado na variável Ementa"
   ]
  },
  {
   "cell_type": "code",
   "execution_count": 22,
   "metadata": {},
   "outputs": [],
   "source": [
    "Y = df.AreaTematica.apply(lambda x: x if x in ['Licitação', 'Pessoal', 'Processual'] else 'Outros')"
   ]
  },
  {
   "cell_type": "code",
   "execution_count": 23,
   "metadata": {},
   "outputs": [
    {
     "data": {
      "text/plain": [
       "<matplotlib.axes._subplots.AxesSubplot at 0x1d2ba656588>"
      ]
     },
     "execution_count": 23,
     "metadata": {},
     "output_type": "execute_result"
    },
    {
     "data": {
      "image/png": "[encoded data removed]",
      "text/plain": [
       "<Figure size 432x288 with 1 Axes>"
      ]
     },
     "metadata": {
      "needs_background": "light"
     },
     "output_type": "display_data"
    }
   ],
   "source": [
    "Y.value_counts().plot(kind='bar')"
   ]
  },
  {
   "cell_type": "code",
   "execution_count": 24,
   "metadata": {},
   "outputs": [],
   "source": [
    "# Usar comando stratif para garantir que o percentual das classe  permaneça nos 2 conjuntos\n",
    "X_train, X_test, y_train, y_test = \\\n",
    "    train_test_split(df.Ementa, Y, test_size=0.15, stratify=Y, random_state=42)"
   ]
  },
  {
   "cell_type": "code",
   "execution_count": 25,
   "metadata": {
    "scrolled": true
   },
   "outputs": [
    {
     "data": {
      "text/plain": [
       "Codigo\n",
       "198    \"PRESTAÇÃO DE CONTAS. PREFEITURA MUNICIPAL DE ...\n",
       "87     \"EDUCAÇÃO. GASTO COM MANUTENÇÃOE DESENVOLVIMEN...\n",
       "82     \"CONVÊNIO. DEVOLUÇÃO DE RECURSOS. PESSOAL. ACU...\n",
       "36     \"PROCESSUAL. FALHAS DE NATUREZA FORMAL. NÃO CO...\n",
       "188    \"CONTAS DE GESTÃO DA PREFEITURA. INADIMPLÊNCIA...\n",
       "104    \"PESSOAL. DESPESA COM PESSOAL DO EXECUTIVO ATI...\n",
       "72     \"CÂMARA MUNICIPAL. DESPESA. ELEVADO VALOR DE C...\n",
       "86     \"DESPESAS DE EXERCÍCIOS ANTERIORES PAGAS COM R...\n",
       "52     \"LICITAÇÃO. IRREGULARIDADES EM PREGÃO PRESENCI...\n",
       "109    \"CONTROLE INTERNO. NEGLIGÊNCIA DE INFORMAÇÕES ...\n",
       "Name: Ementa, dtype: object"
      ]
     },
     "execution_count": 25,
     "metadata": {},
     "output_type": "execute_result"
    }
   ],
   "source": [
    "X_train[:10]"
   ]
  },
  {
   "cell_type": "code",
   "execution_count": 26,
   "metadata": {},
   "outputs": [
    {
     "name": "stdout",
     "output_type": "stream",
     "text": [
      "TREINO :  (171,) \n",
      " Outros        0.508772\n",
      "Licitação     0.187135\n",
      "Pessoal       0.175439\n",
      "Processual    0.128655\n",
      "Name: AreaTematica, dtype: float64 \n",
      "\n",
      "TESTE  :  (31,) \n",
      " Outros        0.516129\n",
      "Licitação     0.193548\n",
      "Pessoal       0.161290\n",
      "Processual    0.129032\n",
      "Name: AreaTematica, dtype: float64\n"
     ]
    }
   ],
   "source": [
    "print('TREINO : ',y_train.shape,'\\n', y_train.value_counts(normalize=True),'\\n')\n",
    "print('TESTE  : ',y_test.shape,'\\n', y_test.value_counts(normalize=True))"
   ]
  },
  {
   "cell_type": "code",
   "execution_count": 27,
   "metadata": {},
   "outputs": [
    {
     "data": {
      "text/plain": [
       "['\"PRESTAÇÃO DE CONTAS. PREFEITURA MUNICIPAL DE RIACHO FRIO. FUNDEB. EXERCÍCIO 2016. DESPESAS DO EXERCÍCIO ANTERIOR EMPENHADAS E PAGAS NO EXERCÍCIO 2016. DESPESAS COM O FUNDEB SUPERIORES À ARRECADAÇÃO. GASTOS COM OS PROFISSIONAIS DO MAGISTÉRIO ACIMA DO VALOR DOS RECURSOS RECEBIDOS ATRAVÉS DO FUNDEB. PERCENTUAL DAS OBRIGAÇÕES PATRONAIS ABAIXO DO LIMITE LEGAL. JULGAMENTO DE IRREGULARIDADE ÀS CONTAS. APLICAÇÃO DE MULTA DE 600 UFR-PI.\\r\\n1. O empenho e o pagamento de despesas de exercícios anteriores violam o art. 21 da Lei Federal nº 11.494/2007, que afirma que os recursos do FUNDEB devem ser utilizados dentro do exercício a que se referem, ou seja, no exercício em que são creditados.\\r\\n2. As contribuições patronais possuem natureza jurídica de tributo, não cabendo ao prefeito fazer juízo de valor no tocante ao mérito, à oportunidade ou à conveniência no perfazer da exação. Trata-se de ato sem margem para discricionariedade. Quando a Prefeitura deixa de recolher os valores devidos das contribuições previdenciárias, ou recolhe um valor notadamente inferior, o impacto não é só na questão previdenciária (de competência da SRFB), mas também na real situação patrimonial do ente, no aumento da dívida e na possibilidade de comprometimento das futuras administrações, ensejando a reprovação das contas.\\r\\n\"',\n",
       " '\"EDUCAÇÃO. GASTO COM MANUTENÇÃOE DESENVOLVIMENTO DE ENSINO INFERIOR AO LIMITE LEGAL. REPERCUSSÃO NEGATIVA NA ANÁLISE DA PRESTAÇÃO DE CONTAS.\\r\\n1. O descumprimento do limite constitucional com manutenção e desenvolvimento de ensino possui gravidade suficiente para ensejar a reprovação das contas em discussão.\\r\\n\"',\n",
       " '\"CONVÊNIO. DEVOLUÇÃO DE RECURSOS. PESSOAL. ACUMULAÇÃO IRREGULAR DE CARGOS. \\r\\n1. Ainda que a devolução de recursos de convênios seja obrigação do Município, a não aplicação destes recursos demonstra falta de planejamento e responsabilidade do gestor.\\r\\n2. Constatou-se a acumulação irregular de cargos públicos, em afronta ao art. 37, inciso XVI, da CF/88.\\r\\n\"',\n",
       " '\"PROCESSUAL. FALHAS DE NATUREZA FORMAL. NÃO CONHECIMENTO. \\r\\n1. O pedido de revisão além de não configurar nova oportunidade para rediscutir critérios de julgamento, também não é meio idôneo para sanar as lacunas probatórias ou as eventuais imperfeições da linha de defesa utilizada, mormente porque o meio adequado para tanto seria o recurso de reconsideração.\\r\\n\"',\n",
       " '\"CONTAS DE GESTÃO DA PREFEITURA. INADIMPLÊNCIA JUNTO A ELETROBRÁS. ACUMULAÇÃO DE CARGOS PÚBLICOS. CONTRATAÇÃO IRREGULAR DE ESCRITORIO DE ADVOCACIA: INEXIGIBILIDADE DE LICITAÇÃO SEM OBSERVÂNCIA DO ART. 25, II, LEI Nº 8.666/93; REMUNERAÇÃO COM CLÁUSULA “AD EXITUM”; PAGAMENTO COM RECURSOS DO FUNDEB.\\r\\n1. Demonstra-se irregular a contratação de escritórios de advocacia sem o devido processo licitatório, nas situações em que tal contratação não atenda às condições de inexigibilidade previstas na Lei nº 8.666/93;\\r\\n2. Considerando que os precatórios do FUNDEB têm como finalidade única a aplicação na área da Educação, regra que não comporta exceções, sendo sua vinculação garantida por lei, o pagamento de escritório de advocacia contratado com recursos provenientes do FUNDEF/FUNDEB contraria o artigo 60 do ADCT, a Lei nº 9.424/96;\\r\\n3. Os contratos com cláusula ad exitum só encontram amparo legal se relacionados a verbas que não sejam de natureza pública, do contrário, não atendem ao requisito do artigo 55, inciso III da Lei nº 8.666/93 que estabelece que os contratos administrativos devem possuir preço certo e pré-definido.\\r\\n\"']"
      ]
     },
     "execution_count": 27,
     "metadata": {},
     "output_type": "execute_result"
    }
   ],
   "source": [
    "text_train = list(X_train)\n",
    "text_test = list(X_test)\n",
    "text_train[:5]"
   ]
  },
  {
   "cell_type": "code",
   "execution_count": 28,
   "metadata": {},
   "outputs": [
    {
     "name": "stdout",
     "output_type": "stream",
     "text": [
      "['Processual', 'Licitação', 'Pessoal', 'Outros', 'Pessoal']\n"
     ]
    }
   ],
   "source": [
    "target_train = list(y_train)\n",
    "target_test = list(y_test)\n",
    "print(target_test[:5])"
   ]
  },
  {
   "cell_type": "code",
   "execution_count": 29,
   "metadata": {},
   "outputs": [],
   "source": [
    "# Define a pipeline combining a text feature extractor with a simple classifier\n",
    "pipeline = Pipeline([\n",
    "    ('vect', CountVectorizer()),\n",
    "    ('tfidf', TfidfTransformer()),\n",
    "    ('clf', SGDClassifier(loss='log')), # default hinge. to get proba=log or modified_huber\n",
    "])"
   ]
  },
  {
   "cell_type": "code",
   "execution_count": 30,
   "metadata": {},
   "outputs": [],
   "source": [
    "# # uncommenting more parameters will give better exploring power but will\n",
    "# # increase processing time in a combinatorial way\n",
    "# parameters = {\n",
    "#     'vect__max_df': (0.5, 0.75, 1.0),\n",
    "#     #\n",
    "#     'vect__max_features': (None, 5000, 10000, 50000),\n",
    "#     'vect__ngram_range': ((1, 1), (1, 2)),  # unigrams or bigrams\n",
    "#     #\n",
    "#     'tfidf__use_idf': (True, False),\n",
    "#     #\n",
    "#     'tfidf__norm': ('l1', 'l2'),\n",
    "#     'clf__max_iter': (20,),\n",
    "#     'clf__alpha': (0.00001, 0.000001),\n",
    "#     'clf__penalty': ('l2', 'elasticnet'),\n",
    "#     #\n",
    "#     'clf__max_iter': (10, 50, 80),\n",
    "# }"
   ]
  },
  {
   "cell_type": "code",
   "execution_count": 31,
   "metadata": {},
   "outputs": [],
   "source": [
    "parameters = {\n",
    "    'vect__max_df': (0.75, 1.0),\n",
    "    #\n",
    "    'vect__max_features': (None, 5000),\n",
    "    'vect__ngram_range': ((1, 1), (1, 2)),  # unigrams or bigrams\n",
    "    #\n",
    "    'tfidf__use_idf': (True, False),\n",
    "    #\n",
    "    'tfidf__norm': ('l1', 'l2'),\n",
    "    'clf__max_iter': (20,),\n",
    "    'clf__alpha': (0.00001, 0.000001),\n",
    "    'clf__penalty': ('l2', 'elasticnet'),\n",
    "    #\n",
    "    'clf__max_iter': (10, 50),\n",
    "}"
   ]
  },
  {
   "cell_type": "code",
   "execution_count": 32,
   "metadata": {},
   "outputs": [],
   "source": [
    "def modelo():\n",
    "    # multiprocessing requires the fork to happen in a __main__ protected\n",
    "    # block\n",
    "\n",
    "    # find the best parameters for both the feature extraction and the\n",
    "    # classifier\n",
    "    # n_jobs=-1 -> Usar todas as CPUs diponíveis \n",
    "    # verbose=1 -> Exibir o que está fazendo\n",
    "    # cv=3      -> Cross validation em 3 partes\n",
    "    grid_search = GridSearchCV(pipeline, parameters, n_jobs=-1, verbose=1, cv=3)\n",
    "\n",
    "    print(\"Performing grid search...\")\n",
    "    print(\"pipeline:\", [name for name, _ in pipeline.steps])\n",
    "    print(\"parameters:\")\n",
    "    pprint(parameters)\n",
    "    t0 = time()\n",
    "    \n",
    "    grid_search.fit(text_train, target_train)\n",
    "    print(\"done in %0.3fs\" % (time() - t0))\n",
    "    print()\n",
    "\n",
    "    print(\"Best score: %0.3f\" % grid_search.best_score_)\n",
    "    print(\"Best parameters set:\")\n",
    "    best_parameters = grid_search.best_estimator_.get_params()\n",
    "    for param_name in sorted(parameters.keys()):\n",
    "        print(\"\\t%s: %r\" % (param_name, best_parameters[param_name]))\n",
    "        \n",
    "    return grid_search"
   ]
  },
  {
   "cell_type": "code",
   "execution_count": 33,
   "metadata": {},
   "outputs": [
    {
     "name": "stdout",
     "output_type": "stream",
     "text": [
      "Performing grid search...\n",
      "pipeline: ['vect', 'tfidf', 'clf']\n",
      "parameters:\n",
      "{'clf__alpha': (1e-05, 1e-06),\n",
      " 'clf__max_iter': (10, 50),\n",
      " 'clf__penalty': ('l2', 'elasticnet'),\n",
      " 'tfidf__norm': ('l1', 'l2'),\n",
      " 'tfidf__use_idf': (True, False),\n",
      " 'vect__max_df': (0.75, 1.0),\n",
      " 'vect__max_features': (None, 5000),\n",
      " 'vect__ngram_range': ((1, 1), (1, 2))}\n",
      "Fitting 3 folds for each of 256 candidates, totalling 768 fits\n"
     ]
    },
    {
     "name": "stderr",
     "output_type": "stream",
     "text": [
      "[Parallel(n_jobs=-1)]: Using backend LokyBackend with 4 concurrent workers.\n",
      "[Parallel(n_jobs=-1)]: Done  42 tasks      | elapsed:    3.3s\n",
      "[Parallel(n_jobs=-1)]: Done 192 tasks      | elapsed:    8.0s\n",
      "[Parallel(n_jobs=-1)]: Done 600 tasks      | elapsed:   20.6s\n"
     ]
    },
    {
     "name": "stdout",
     "output_type": "stream",
     "text": [
      "done in 27.720s\n",
      "\n",
      "Best score: 0.860\n",
      "Best parameters set:\n",
      "\tclf__alpha: 1e-05\n",
      "\tclf__max_iter: 50\n",
      "\tclf__penalty: 'elasticnet'\n",
      "\ttfidf__norm: 'l2'\n",
      "\ttfidf__use_idf: True\n",
      "\tvect__max_df: 1.0\n",
      "\tvect__max_features: 5000\n",
      "\tvect__ngram_range: (1, 2)\n"
     ]
    },
    {
     "name": "stderr",
     "output_type": "stream",
     "text": [
      "[Parallel(n_jobs=-1)]: Done 768 out of 768 | elapsed:   27.5s finished\n"
     ]
    }
   ],
   "source": [
    "grid_search = modelo()"
   ]
  },
  {
   "cell_type": "code",
   "execution_count": 34,
   "metadata": {},
   "outputs": [
    {
     "data": {
      "text/plain": [
       "array(['Processual', 'Licitação', 'Outros', 'Outros', 'Pessoal', 'Outros',\n",
       "       'Outros', 'Outros', 'Outros', 'Outros', 'Outros', 'Outros',\n",
       "       'Outros', 'Licitação', 'Processual', 'Outros', 'Licitação',\n",
       "       'Outros', 'Outros', 'Outros', 'Outros', 'Processual', 'Outros',\n",
       "       'Outros', 'Outros', 'Outros', 'Outros', 'Outros', 'Outros',\n",
       "       'Outros', 'Outros'], dtype='<U10')"
      ]
     },
     "execution_count": 34,
     "metadata": {},
     "output_type": "execute_result"
    }
   ],
   "source": [
    "grid_search.best_estimator_.predict(text_test)"
   ]
  },
  {
   "cell_type": "code",
   "execution_count": 35,
   "metadata": {},
   "outputs": [
    {
     "data": {
      "text/plain": [
       "array([[1.20569619e-03, 1.29747878e-03, 1.84833609e-03, 9.95648489e-01],\n",
       "       [9.18856857e-01, 2.43487951e-03, 7.53477312e-02, 3.36053216e-03],\n",
       "       [8.32142892e-04, 9.96534268e-01, 2.30055744e-03, 3.33031940e-04],\n",
       "       [2.27147298e-01, 7.71641425e-01, 4.26470698e-04, 7.84806169e-04],\n",
       "       [2.25591948e-03, 3.01020168e-02, 9.65863261e-01, 1.77880297e-03],\n",
       "       [3.78758171e-03, 9.94775959e-01, 1.34041315e-03, 9.60460494e-05],\n",
       "       [3.23952724e-04, 9.06494760e-01, 2.99197467e-02, 6.32615404e-02],\n",
       "       [1.74103231e-02, 6.30655788e-01, 4.11934589e-03, 3.47814543e-01],\n",
       "       [1.05911261e-03, 9.94098482e-01, 3.18514336e-03, 1.65726200e-03],\n",
       "       [9.63423155e-04, 9.93000208e-01, 2.51466335e-03, 3.52170534e-03]])"
      ]
     },
     "execution_count": 35,
     "metadata": {},
     "output_type": "execute_result"
    }
   ],
   "source": [
    "prob_preds= grid_search.best_estimator_.predict_proba(text_test)\n",
    "prob_preds[:10]"
   ]
  },
  {
   "cell_type": "code",
   "execution_count": 36,
   "metadata": {},
   "outputs": [],
   "source": [
    "df_test = pd.DataFrame(columns=['texto','area', 'predicted', 'prob_0','prob_1','prob_2','prob_3'])\n",
    "df_test['texto'] = text_test\n",
    "df_test['area'] = target_test\n",
    "df_test['predicted'] = grid_search.best_estimator_.predict(text_test)\n",
    "df_test['prob_0'] = prob_preds[0:,0].tolist()\n",
    "df_test['prob_1'] = prob_preds[0:,1].tolist()\n",
    "df_test['prob_2'] = prob_preds[0:,2].tolist()\n",
    "df_test['prob_3'] = prob_preds[0:,3].tolist()"
   ]
  },
  {
   "cell_type": "code",
   "execution_count": 37,
   "metadata": {},
   "outputs": [
    {
     "name": "stdout",
     "output_type": "stream",
     "text": [
      "(31, 7)\n"
     ]
    },
    {
     "data": {
      "text/html": [
       "<div>\n",
       "<style scoped>\n",
       "    .dataframe tbody tr th:only-of-type {\n",
       "        vertical-align: middle;\n",
       "    }\n",
       "\n",
       "    .dataframe tbody tr th {\n",
       "        vertical-align: top;\n",
       "    }\n",
       "\n",
       "    .dataframe thead th {\n",
       "        text-align: right;\n",
       "    }\n",
       "</style>\n",
       "<table border=\"1\" class=\"dataframe\">\n",
       "  <thead>\n",
       "    <tr style=\"text-align: right;\">\n",
       "      <th></th>\n",
       "      <th>texto</th>\n",
       "      <th>area</th>\n",
       "      <th>predicted</th>\n",
       "      <th>prob_0</th>\n",
       "      <th>prob_1</th>\n",
       "      <th>prob_2</th>\n",
       "      <th>prob_3</th>\n",
       "    </tr>\n",
       "  </thead>\n",
       "  <tbody>\n",
       "    <tr>\n",
       "      <th>0</th>\n",
       "      <td>\"PROCESSUAL. NÃO ATENDIMENTO DOS REQUISITOS DO...</td>\n",
       "      <td>Processual</td>\n",
       "      <td>Processual</td>\n",
       "      <td>0.001206</td>\n",
       "      <td>0.001297</td>\n",
       "      <td>0.001848</td>\n",
       "      <td>0.995648</td>\n",
       "    </tr>\n",
       "    <tr>\n",
       "      <th>1</th>\n",
       "      <td>\"PREVIDÊNCIA. CONTRATAÇÃO DE EMPRESA PARA PRES...</td>\n",
       "      <td>Licitação</td>\n",
       "      <td>Licitação</td>\n",
       "      <td>0.918857</td>\n",
       "      <td>0.002435</td>\n",
       "      <td>0.075348</td>\n",
       "      <td>0.003361</td>\n",
       "    </tr>\n",
       "    <tr>\n",
       "      <th>2</th>\n",
       "      <td>\"TOMADA DE CONTAS. DESCUMPRIMENTO DE DETERMINA...</td>\n",
       "      <td>Pessoal</td>\n",
       "      <td>Outros</td>\n",
       "      <td>0.000832</td>\n",
       "      <td>0.996534</td>\n",
       "      <td>0.002301</td>\n",
       "      <td>0.000333</td>\n",
       "    </tr>\n",
       "    <tr>\n",
       "      <th>3</th>\n",
       "      <td>\"INSPEÇÃO. PRESTAÇÃO DE CONTAS. TRESPASSE DA E...</td>\n",
       "      <td>Outros</td>\n",
       "      <td>Outros</td>\n",
       "      <td>0.227147</td>\n",
       "      <td>0.771641</td>\n",
       "      <td>0.000426</td>\n",
       "      <td>0.000785</td>\n",
       "    </tr>\n",
       "    <tr>\n",
       "      <th>4</th>\n",
       "      <td>\"PRESTAÇÃO DE CONTAS. SUPOSTA ACUMULAÇÃO ILEGA...</td>\n",
       "      <td>Pessoal</td>\n",
       "      <td>Pessoal</td>\n",
       "      <td>0.002256</td>\n",
       "      <td>0.030102</td>\n",
       "      <td>0.965863</td>\n",
       "      <td>0.001779</td>\n",
       "    </tr>\n",
       "  </tbody>\n",
       "</table>\n",
       "</div>"
      ],
      "text/plain": [
       "                                               texto        area   predicted  \\\n",
       "0  \"PROCESSUAL. NÃO ATENDIMENTO DOS REQUISITOS DO...  Processual  Processual   \n",
       "1  \"PREVIDÊNCIA. CONTRATAÇÃO DE EMPRESA PARA PRES...   Licitação   Licitação   \n",
       "2  \"TOMADA DE CONTAS. DESCUMPRIMENTO DE DETERMINA...     Pessoal      Outros   \n",
       "3  \"INSPEÇÃO. PRESTAÇÃO DE CONTAS. TRESPASSE DA E...      Outros      Outros   \n",
       "4  \"PRESTAÇÃO DE CONTAS. SUPOSTA ACUMULAÇÃO ILEGA...     Pessoal     Pessoal   \n",
       "\n",
       "     prob_0    prob_1    prob_2    prob_3  \n",
       "0  0.001206  0.001297  0.001848  0.995648  \n",
       "1  0.918857  0.002435  0.075348  0.003361  \n",
       "2  0.000832  0.996534  0.002301  0.000333  \n",
       "3  0.227147  0.771641  0.000426  0.000785  \n",
       "4  0.002256  0.030102  0.965863  0.001779  "
      ]
     },
     "execution_count": 37,
     "metadata": {},
     "output_type": "execute_result"
    }
   ],
   "source": [
    "print(df_test.shape)\n",
    "df_test.head()"
   ]
  },
  {
   "cell_type": "code",
   "execution_count": 38,
   "metadata": {},
   "outputs": [
    {
     "data": {
      "text/plain": [
       "array([ True,  True, False,  True,  True,  True, False, False,  True,\n",
       "        True,  True,  True, False,  True,  True,  True,  True,  True,\n",
       "        True,  True, False, False,  True,  True, False,  True,  True,\n",
       "       False, False,  True, False])"
      ]
     },
     "execution_count": 38,
     "metadata": {},
     "output_type": "execute_result"
    }
   ],
   "source": [
    "grid_search.best_estimator_.predict(text_test) == target_test"
   ]
  },
  {
   "cell_type": "code",
   "execution_count": 39,
   "metadata": {},
   "outputs": [
    {
     "data": {
      "text/plain": [
       "0.6774193548387096"
      ]
     },
     "execution_count": 39,
     "metadata": {},
     "output_type": "execute_result"
    }
   ],
   "source": [
    "sum(grid_search.best_estimator_.predict(text_test) == target_test)/len(target_test)"
   ]
  },
  {
   "cell_type": "code",
   "execution_count": 40,
   "metadata": {},
   "outputs": [
    {
     "data": {
      "text/plain": [
       "0.6774193548387096"
      ]
     },
     "execution_count": 40,
     "metadata": {},
     "output_type": "execute_result"
    }
   ],
   "source": [
    "# Pela Ementa e sem estratificar as amostras, obtivemos 77% de acurácia.\n",
    "grid_search.best_estimator_.score(text_test, target_test)"
   ]
  },
  {
   "cell_type": "code",
   "execution_count": 41,
   "metadata": {},
   "outputs": [
    {
     "data": {
      "text/plain": [
       "<sklearn.metrics._plot.confusion_matrix.ConfusionMatrixDisplay at 0x1d2ba90c248>"
      ]
     },
     "execution_count": 41,
     "metadata": {},
     "output_type": "execute_result"
    },
    {
     "data": {
      "image/png": "[encoded data removed]",
      "text/plain": [
       "<Figure size 432x288 with 2 Axes>"
      ]
     },
     "metadata": {
      "needs_background": "light"
     },
     "output_type": "display_data"
    }
   ],
   "source": [
    "from sklearn.metrics import plot_confusion_matrix\n",
    "plot_confusion_matrix(grid_search.best_estimator_, X_test, y_test)"
   ]
  },
  {
   "cell_type": "markdown",
   "metadata": {},
   "source": [
    "### Testar o modelo usando a variável Sumario ao invés da Ementa"
   ]
  },
  {
   "cell_type": "code",
   "execution_count": 42,
   "metadata": {},
   "outputs": [
    {
     "name": "stdout",
     "output_type": "stream",
     "text": [
      "Performing grid search...\n",
      "pipeline: ['vect', 'tfidf', 'clf']\n",
      "parameters:\n",
      "{'clf__alpha': (1e-05, 1e-06),\n",
      " 'clf__max_iter': (10, 50),\n",
      " 'clf__penalty': ('l2', 'elasticnet'),\n",
      " 'tfidf__norm': ('l1', 'l2'),\n",
      " 'tfidf__use_idf': (True, False),\n",
      " 'vect__max_df': (0.75, 1.0),\n",
      " 'vect__max_features': (None, 5000),\n",
      " 'vect__ngram_range': ((1, 1), (1, 2))}\n",
      "Fitting 3 folds for each of 256 candidates, totalling 768 fits\n"
     ]
    },
    {
     "name": "stderr",
     "output_type": "stream",
     "text": [
      "[Parallel(n_jobs=-1)]: Using backend LokyBackend with 4 concurrent workers.\n",
      "[Parallel(n_jobs=-1)]: Done 128 tasks      | elapsed:    1.7s\n",
      "[Parallel(n_jobs=-1)]: Done 728 tasks      | elapsed:    9.9s\n"
     ]
    },
    {
     "name": "stdout",
     "output_type": "stream",
     "text": [
      "done in 10.542s\n",
      "\n",
      "Best score: 0.591\n",
      "Best parameters set:\n",
      "\tclf__alpha: 1e-05\n",
      "\tclf__max_iter: 50\n",
      "\tclf__penalty: 'l2'\n",
      "\ttfidf__norm: 'l2'\n",
      "\ttfidf__use_idf: True\n",
      "\tvect__max_df: 1.0\n",
      "\tvect__max_features: 5000\n",
      "\tvect__ngram_range: (1, 1)\n"
     ]
    },
    {
     "name": "stderr",
     "output_type": "stream",
     "text": [
      "[Parallel(n_jobs=-1)]: Done 768 out of 768 | elapsed:   10.4s finished\n"
     ]
    },
    {
     "data": {
      "text/plain": [
       "0.45161290322580644"
      ]
     },
     "execution_count": 42,
     "metadata": {},
     "output_type": "execute_result"
    }
   ],
   "source": [
    "# Usar comando stratif para garantir que o percentual das classe  permaneça nos 2 conjuntos\n",
    "X_train, X_test, y_train, y_test = \\\n",
    "    train_test_split(df.Sumario, Y, test_size=0.15, stratify=Y, random_state=42)\n",
    "\n",
    "text_train = list(X_train)\n",
    "text_test = list(X_test)\n",
    "target_train = list(y_train)\n",
    "target_test = list(y_test)\n",
    "\n",
    "grid_search = modelo()\n",
    "\n",
    "grid_search.best_estimator_.score(text_test, target_test)"
   ]
  },
  {
   "cell_type": "markdown",
   "metadata": {},
   "source": [
    "##### Acurácia de apenas 38%"
   ]
  },
  {
   "cell_type": "markdown",
   "metadata": {},
   "source": [
    "### Testar o modelo usando a variável Ementa e 6 classes ao ainvés de 4"
   ]
  },
  {
   "cell_type": "code",
   "execution_count": 43,
   "metadata": {},
   "outputs": [
    {
     "data": {
      "text/plain": [
       "<matplotlib.axes._subplots.AxesSubplot at 0x1d2ba8c2bc8>"
      ]
     },
     "execution_count": 43,
     "metadata": {},
     "output_type": "execute_result"
    },
    {
     "data": {
      "image/png": "[encoded data removed]",
      "text/plain": [
       "<Figure size 432x288 with 1 Axes>"
      ]
     },
     "metadata": {
      "needs_background": "light"
     },
     "output_type": "display_data"
    }
   ],
   "source": [
    "Y = df.AreaTematica.apply(lambda x: x if x in ['Licitação', 'Pessoal', 'Processual', \\\n",
    "                                               'Contrato', 'Previdência'] \\\n",
    "                          else 'Outros')\n",
    "Y.value_counts().plot(kind='bar')"
   ]
  },
  {
   "cell_type": "code",
   "execution_count": 44,
   "metadata": {},
   "outputs": [
    {
     "name": "stdout",
     "output_type": "stream",
     "text": [
      "Performing grid search...\n",
      "pipeline: ['vect', 'tfidf', 'clf']\n",
      "parameters:\n",
      "{'clf__alpha': (1e-05, 1e-06),\n",
      " 'clf__max_iter': (10, 50),\n",
      " 'clf__penalty': ('l2', 'elasticnet'),\n",
      " 'tfidf__norm': ('l1', 'l2'),\n",
      " 'tfidf__use_idf': (True, False),\n",
      " 'vect__max_df': (0.75, 1.0),\n",
      " 'vect__max_features': (None, 5000),\n",
      " 'vect__ngram_range': ((1, 1), (1, 2))}\n",
      "Fitting 3 folds for each of 256 candidates, totalling 768 fits\n"
     ]
    },
    {
     "name": "stderr",
     "output_type": "stream",
     "text": [
      "[Parallel(n_jobs=-1)]: Using backend LokyBackend with 4 concurrent workers.\n",
      "[Parallel(n_jobs=-1)]: Done  76 tasks      | elapsed:    2.3s\n",
      "[Parallel(n_jobs=-1)]: Done 376 tasks      | elapsed:   14.0s\n"
     ]
    },
    {
     "name": "stdout",
     "output_type": "stream",
     "text": [
      "done in 29.641s\n",
      "\n",
      "Best score: 0.749\n",
      "Best parameters set:\n",
      "\tclf__alpha: 1e-05\n",
      "\tclf__max_iter: 50\n",
      "\tclf__penalty: 'l2'\n",
      "\ttfidf__norm: 'l2'\n",
      "\ttfidf__use_idf: True\n",
      "\tvect__max_df: 0.75\n",
      "\tvect__max_features: 5000\n",
      "\tvect__ngram_range: (1, 1)\n"
     ]
    },
    {
     "name": "stderr",
     "output_type": "stream",
     "text": [
      "[Parallel(n_jobs=-1)]: Done 768 out of 768 | elapsed:   29.5s finished\n"
     ]
    },
    {
     "data": {
      "text/plain": [
       "0.7419354838709677"
      ]
     },
     "execution_count": 44,
     "metadata": {},
     "output_type": "execute_result"
    }
   ],
   "source": [
    "# Usar comando stratify para garantir que o percentual das classe  permaneça nos 2 conjuntos\n",
    "X_train, X_test, y_train, y_test = \\\n",
    "    train_test_split(df.Ementa, Y, test_size=0.15, stratify=Y, random_state=42)\n",
    "\n",
    "text_train = list(X_train)\n",
    "text_test = list(X_test)\n",
    "target_train = list(y_train)\n",
    "target_test = list(y_test)\n",
    "\n",
    "grid_search = modelo()\n",
    "\n",
    "grid_search.best_estimator_.score(text_test, target_test)"
   ]
  },
  {
   "cell_type": "code",
   "execution_count": 45,
   "metadata": {},
   "outputs": [
    {
     "data": {
      "text/plain": [
       "<sklearn.metrics._plot.confusion_matrix.ConfusionMatrixDisplay at 0x1d2ba70cb88>"
      ]
     },
     "execution_count": 45,
     "metadata": {},
     "output_type": "execute_result"
    },
    {
     "data": {
      "image/png": "[encoded data removed]",
      "text/plain": [
       "<Figure size 432x288 with 2 Axes>"
      ]
     },
     "metadata": {
      "needs_background": "light"
     },
     "output_type": "display_data"
    }
   ],
   "source": [
    "plot_confusion_matrix(grid_search.best_estimator_, X_test, y_test)"
   ]
  },
  {
   "cell_type": "markdown",
   "metadata": {},
   "source": [
    "### Testar o modelo usando a variável Ementa e todas as classes"
   ]
  },
  {
   "cell_type": "code",
   "execution_count": 46,
   "metadata": {},
   "outputs": [
    {
     "name": "stdout",
     "output_type": "stream",
     "text": [
      "Performing grid search...\n",
      "pipeline: ['vect', 'tfidf', 'clf']\n",
      "parameters:\n",
      "{'clf__alpha': (1e-05, 1e-06),\n",
      " 'clf__max_iter': (10, 50),\n",
      " 'clf__penalty': ('l2', 'elasticnet'),\n",
      " 'tfidf__norm': ('l1', 'l2'),\n",
      " 'tfidf__use_idf': (True, False),\n",
      " 'vect__max_df': (0.75, 1.0),\n",
      " 'vect__max_features': (None, 5000),\n",
      " 'vect__ngram_range': ((1, 1), (1, 2))}\n",
      "Fitting 3 folds for each of 256 candidates, totalling 768 fits\n"
     ]
    },
    {
     "name": "stderr",
     "output_type": "stream",
     "text": [
      "[Parallel(n_jobs=-1)]: Using backend LokyBackend with 4 concurrent workers.\n",
      "[Parallel(n_jobs=-1)]: Done  76 tasks      | elapsed:    3.1s\n",
      "[Parallel(n_jobs=-1)]: Done 376 tasks      | elapsed:   18.5s\n"
     ]
    },
    {
     "name": "stdout",
     "output_type": "stream",
     "text": [
      "done in 35.505s\n",
      "\n",
      "Best score: 0.643\n",
      "Best parameters set:\n",
      "\tclf__alpha: 1e-06\n",
      "\tclf__max_iter: 50\n",
      "\tclf__penalty: 'elasticnet'\n",
      "\ttfidf__norm: 'l2'\n",
      "\ttfidf__use_idf: True\n",
      "\tvect__max_df: 1.0\n",
      "\tvect__max_features: 5000\n",
      "\tvect__ngram_range: (1, 1)\n"
     ]
    },
    {
     "name": "stderr",
     "output_type": "stream",
     "text": [
      "[Parallel(n_jobs=-1)]: Done 768 out of 768 | elapsed:   35.3s finished\n"
     ]
    },
    {
     "data": {
      "text/plain": [
       "0.6451612903225806"
      ]
     },
     "execution_count": 46,
     "metadata": {},
     "output_type": "execute_result"
    }
   ],
   "source": [
    "# Usar comando stratify para garantir que o percentual das classe  permaneça nos 2 conjuntos\n",
    "X_train, X_test, y_train, y_test = \\\n",
    "    train_test_split(df.Ementa, df.AreaTematica, test_size=0.15, stratify=Y, random_state=42)\n",
    "\n",
    "text_train = list(X_train)\n",
    "text_test = list(X_test)\n",
    "target_train = list(y_train)\n",
    "target_test = list(y_test)\n",
    "\n",
    "grid_search = modelo()\n",
    "\n",
    "grid_search.best_estimator_.score(text_test, target_test)"
   ]
  },
  {
   "cell_type": "code",
   "execution_count": 47,
   "metadata": {},
   "outputs": [
    {
     "data": {
      "text/plain": [
       "<sklearn.metrics._plot.confusion_matrix.ConfusionMatrixDisplay at 0x1d2bcf06088>"
      ]
     },
     "execution_count": 47,
     "metadata": {},
     "output_type": "execute_result"
    },
    {
     "data": {
      "image/png": "[encoded data removed]",
      "text/plain": [
       "<Figure size 432x288 with 2 Axes>"
      ]
     },
     "metadata": {
      "needs_background": "light"
     },
     "output_type": "display_data"
    }
   ],
   "source": [
    "plot_confusion_matrix(grid_search.best_estimator_, X_test, y_test)"
   ]
  },
  {
   "cell_type": "code",
   "execution_count": null,
   "metadata": {},
   "outputs": [],
   "source": []
  }
 ],
 "metadata": {
  "kernelspec": {
   "display_name": "Python 3.7.6 64-bit ('ocr': conda)",
   "language": "python",
   "name": "python37664bitocrcondaa482dcc5ccb14657a8e6f927a54e138a"
  },
  "language_info": {
   "codemirror_mode": {
    "name": "ipython",
    "version": 3
   },
   "file_extension": ".py",
   "mimetype": "text/x-python",
   "name": "python",
   "nbconvert_exporter": "python",
   "pygments_lexer": "ipython3",
   "version": "3.7.6"
  }
 },
 "nbformat": 4,
 "nbformat_minor": 4
}
