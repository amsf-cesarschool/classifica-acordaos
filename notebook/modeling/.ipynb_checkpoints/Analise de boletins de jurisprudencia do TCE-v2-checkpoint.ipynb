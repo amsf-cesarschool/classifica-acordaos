{
 "cells": [
  {
   "cell_type": "markdown",
   "metadata": {},
   "source": [
    "# Análise de boletins de jurisprudência do TCE-PI"
   ]
  },
  {
   "cell_type": "markdown",
   "metadata": {},
   "source": [
    "## Introdução\n",
    "Analisa registros extraídos dos boletins de jurisprudência do TCE/PI a partir de documentos no formato word fornecidos pela Comissão de Regimento e Jurisprudência (CRJ).\n",
    "\n",
    "Fonte: https://www.tce.pi.gov.br/imprensa/publicacoes/boletins-de-jurisprudencia/\n",
    "<br>Boletins de agosto de 2017 a agosto de 2020\n",
    "\n",
    "Cria um modelo usando bag of words e TfIdf do sklearn\n",
    "\n",
    "Será usado o campo AreaTematica como variável alvo. Porém, nesse dataset só existem 605 registros com 26 àreas temáticas distintas. As maiores são:\n",
    "\n",
    "| Área Temática       |Qtde| Área Temática       |Qtde|\n",
    "|---------------------|----|---------------------|----|\n",
    "| Licitação           | 38 | Contabilidade       | 8  |\n",
    "| Pessoal             | 35 | Agente Político     | 6  |\n",
    "| Processual          | 25 | Receita             | 5  |\n",
    "| Contrato            | 15 | Responsabilidade    | 4  |\n",
    "| Previdência         | 13 | Transparência       | 3  |\n",
    "| Educação            | 11 | Convênio e Instrumentos Congêneres    | 3  |\n",
    "| Câmara Municipal    | 10 | Planejamento                          | 3  |\n",
    "| Prestação de Contas | 8  | Controle Interno                      | 2  |\n",
    "\n",
    "Em função da pouca quantidade de registros na maioria das classes, fiz testes usando como alvo as 3 e 5 classes mais frequentes, agrupando as demais como 'Outros'. Também testei usando como variáveis indepentes Ementa e Sumário. **Melhores resultados obtidos foram usando apenas 3 classes alvo e o campo Ementa, com acurácia em torno de 75%**.\n",
    "\n",
    "Futuro: Analisar com um especialista de domínio a opção de fazer agrupamentos racionais dessas áreas. Usar em torno de 4 ou 5 grupos.\n",
    "\n",
    "Antonio Filho - 13/09/2020"
   ]
  },
  {
   "cell_type": "markdown",
   "metadata": {},
   "source": [
    "### Importação de bibliotecas"
   ]
  },
  {
   "cell_type": "code",
   "execution_count": 1,
   "metadata": {},
   "outputs": [],
   "source": [
    "import pandas as pd\n",
    "import numpy as np\n",
    "\n",
    "import matplotlib.pyplot as plt\n",
    "from pathlib import Path\n",
    "\n",
    "import re\n",
    "import unicodedata\n",
    "\n",
    "%matplotlib inline"
   ]
  },
  {
   "cell_type": "markdown",
   "metadata": {},
   "source": [
    "### Carregar os dados"
   ]
  },
  {
   "cell_type": "code",
   "execution_count": 2,
   "metadata": {},
   "outputs": [],
   "source": [
    "caminho_dados = Path(\"../../data/raw/\")\n",
    "df = pd.read_csv(caminho_dados/\"boletins_jurisprudencia.csv\", sep=\";\")"
   ]
  },
  {
   "cell_type": "code",
   "execution_count": 3,
   "metadata": {},
   "outputs": [
    {
     "data": {
      "text/html": [
       "<div>\n",
       "<style scoped>\n",
       "    .dataframe tbody tr th:only-of-type {\n",
       "        vertical-align: middle;\n",
       "    }\n",
       "\n",
       "    .dataframe tbody tr th {\n",
       "        vertical-align: top;\n",
       "    }\n",
       "\n",
       "    .dataframe thead th {\n",
       "        text-align: right;\n",
       "    }\n",
       "</style>\n",
       "<table border=\"1\" class=\"dataframe\">\n",
       "  <thead>\n",
       "    <tr style=\"text-align: right;\">\n",
       "      <th></th>\n",
       "      <th>Arquivo</th>\n",
       "      <th>Sumario</th>\n",
       "      <th>Ementa</th>\n",
       "      <th>Informacoes</th>\n",
       "      <th>AreaTematica</th>\n",
       "      <th>decisao_tipo</th>\n",
       "      <th>decisao_numero</th>\n",
       "      <th>decisao_ano</th>\n",
       "    </tr>\n",
       "  </thead>\n",
       "  <tbody>\n",
       "    <tr>\n",
       "      <th>0</th>\n",
       "      <td>Boletim de Jurisprudência TCE-PI - Agosto-Deze...</td>\n",
       "      <td>Agente Político. Variação dos subsídios dos ve...</td>\n",
       "      <td>EMENTA. ORÇAMENTO. VARIAÇÃO DOS SUBSÍDIOS DOS ...</td>\n",
       "      <td>(Prestação de Contas. Processo  – Relator: Con...</td>\n",
       "      <td>Agente Político</td>\n",
       "      <td>acordao</td>\n",
       "      <td>2400</td>\n",
       "      <td>2017.0</td>\n",
       "    </tr>\n",
       "    <tr>\n",
       "      <th>1</th>\n",
       "      <td>Boletim de Jurisprudência TCE-PI - Agosto-Deze...</td>\n",
       "      <td>Câmara Municipal. Elevado dispêndio com diárias.</td>\n",
       "      <td>EMENTA. CÂMARA MUNICIPAL. DESPESA. ELEVADO VAL...</td>\n",
       "      <td>(Prestação de Contas. Processo  – Relator: Con...</td>\n",
       "      <td>Câmara Municipal</td>\n",
       "      <td>acordao</td>\n",
       "      <td>2348</td>\n",
       "      <td>2017.0</td>\n",
       "    </tr>\n",
       "    <tr>\n",
       "      <th>2</th>\n",
       "      <td>Boletim de Jurisprudência TCE-PI - Agosto-Deze...</td>\n",
       "      <td>Câmara Municipal. Impossibilidade de realizaçã...</td>\n",
       "      <td>EMENTA. CÂMARA MUNICIPAL. IMPOSSIBILIDADE DA R...</td>\n",
       "      <td>(Consulta. Processo  – Relator: Cons. Subst. D...</td>\n",
       "      <td>Câmara Municipal</td>\n",
       "      <td>acordao</td>\n",
       "      <td>2711</td>\n",
       "      <td>2017.0</td>\n",
       "    </tr>\n",
       "    <tr>\n",
       "      <th>3</th>\n",
       "      <td>Boletim de Jurisprudência TCE-PI - Agosto-Deze...</td>\n",
       "      <td>Contabilidade. Divergência entre o saldo inici...</td>\n",
       "      <td>EMENTA: PRESTAÇÃO DE CONTAS. ENVIO INTEMPESTIV...</td>\n",
       "      <td>(Prestação de Contas. Processo  – Relator: Con...</td>\n",
       "      <td>Contabilidade</td>\n",
       "      <td>parecer</td>\n",
       "      <td>267</td>\n",
       "      <td>2017.0</td>\n",
       "    </tr>\n",
       "    <tr>\n",
       "      <th>4</th>\n",
       "      <td>Boletim de Jurisprudência TCE-PI - Agosto-Deze...</td>\n",
       "      <td>Contabilidade. Divergência entre o valor da am...</td>\n",
       "      <td>EMENTA: PRESTAÇÃO DE CONTAS. FALHAS DE NATUREZ...</td>\n",
       "      <td>(Prestação de Contas. Processo  – Relator: Con...</td>\n",
       "      <td>Contabilidade</td>\n",
       "      <td>parecer</td>\n",
       "      <td>249</td>\n",
       "      <td>2017.0</td>\n",
       "    </tr>\n",
       "  </tbody>\n",
       "</table>\n",
       "</div>"
      ],
      "text/plain": [
       "                                             Arquivo  \\\n",
       "0  Boletim de Jurisprudência TCE-PI - Agosto-Deze...   \n",
       "1  Boletim de Jurisprudência TCE-PI - Agosto-Deze...   \n",
       "2  Boletim de Jurisprudência TCE-PI - Agosto-Deze...   \n",
       "3  Boletim de Jurisprudência TCE-PI - Agosto-Deze...   \n",
       "4  Boletim de Jurisprudência TCE-PI - Agosto-Deze...   \n",
       "\n",
       "                                             Sumario  \\\n",
       "0  Agente Político. Variação dos subsídios dos ve...   \n",
       "1   Câmara Municipal. Elevado dispêndio com diárias.   \n",
       "2  Câmara Municipal. Impossibilidade de realizaçã...   \n",
       "3  Contabilidade. Divergência entre o saldo inici...   \n",
       "4  Contabilidade. Divergência entre o valor da am...   \n",
       "\n",
       "                                              Ementa  \\\n",
       "0  EMENTA. ORÇAMENTO. VARIAÇÃO DOS SUBSÍDIOS DOS ...   \n",
       "1  EMENTA. CÂMARA MUNICIPAL. DESPESA. ELEVADO VAL...   \n",
       "2  EMENTA. CÂMARA MUNICIPAL. IMPOSSIBILIDADE DA R...   \n",
       "3  EMENTA: PRESTAÇÃO DE CONTAS. ENVIO INTEMPESTIV...   \n",
       "4  EMENTA: PRESTAÇÃO DE CONTAS. FALHAS DE NATUREZ...   \n",
       "\n",
       "                                         Informacoes      AreaTematica  \\\n",
       "0  (Prestação de Contas. Processo  – Relator: Con...   Agente Político   \n",
       "1  (Prestação de Contas. Processo  – Relator: Con...  Câmara Municipal   \n",
       "2  (Consulta. Processo  – Relator: Cons. Subst. D...  Câmara Municipal   \n",
       "3  (Prestação de Contas. Processo  – Relator: Con...     Contabilidade   \n",
       "4  (Prestação de Contas. Processo  – Relator: Con...     Contabilidade   \n",
       "\n",
       "  decisao_tipo decisao_numero  decisao_ano  \n",
       "0      acordao           2400       2017.0  \n",
       "1      acordao           2348       2017.0  \n",
       "2      acordao           2711       2017.0  \n",
       "3      parecer            267       2017.0  \n",
       "4      parecer            249       2017.0  "
      ]
     },
     "execution_count": 3,
     "metadata": {},
     "output_type": "execute_result"
    }
   ],
   "source": [
    "df.head()"
   ]
  },
  {
   "cell_type": "code",
   "execution_count": 4,
   "metadata": {},
   "outputs": [
    {
     "data": {
      "text/plain": [
       "(605, 8)"
      ]
     },
     "execution_count": 4,
     "metadata": {},
     "output_type": "execute_result"
    }
   ],
   "source": [
    "df.shape"
   ]
  },
  {
   "cell_type": "markdown",
   "metadata": {},
   "source": [
    "## Análise exploratória dos dados"
   ]
  },
  {
   "cell_type": "code",
   "execution_count": 5,
   "metadata": {},
   "outputs": [
    {
     "data": {
      "text/plain": [
       "Boletim de Jurisprudência TCE-PI - agosto 2020.docx                                       83\n",
       "Boletim de Jurisprudência TCE-PI - Agosto-Dezembro - 17 - Consolidação semestral..docx    66\n",
       "Boletim de Jurisprudência TCE-PI - julho 2020 FINAL.docx                                  58\n",
       "Boletim de Jurisprudência TCE-PI - Maio - 19.docx                                         31\n",
       "Boletim de Jurisprudência TCE-PI - Setembro - 18.docx                                     26\n",
       "Boletim de Jurisprudência TCE-PI - junho 2020.docx                                        23\n",
       "Boletim de Jurisprudência TCE-PI - junho - 19.docx                                        23\n",
       "Boletim de Jurisprudência TCE-PI - julho - 19.docx                                        22\n",
       "Boletim de Jurisprudência TCE-PI - Dezembro-18 (definitivo).docx                          21\n",
       "Boletim de Jurisprudência TCE-PI - Novembro - 18.docx                                     20\n",
       "Boletim de Jurisprudência TCE-PI - Janeiro - 18.docx                                      19\n",
       "Boletim de Jurisprudência TCE-PI - Outubro - 18.docx                                      18\n",
       "Boletim de Jurisprudência TCE-PI - Julho - 18.docx                                        16\n",
       "Boletim de Jurisprudência TCE-PI - Março - 18.docx                                        15\n",
       "Boletim de Jurisprudência TCE-PI - Junho - 18.docx                                        15\n",
       "Boletim de Jurisprudência TCE-PI - Agosto - 18.docx                                       14\n",
       "Boletim de Jurisprudência TCE-PI - Abril - 18.docx                                        13\n",
       "Boletim de Jurisprudência TCE-PI - Agosto- 19.docx                                        12\n",
       "Boletim de Jurisprudência TCE-PI - Abril - 19.docx                                        12\n",
       "Boletim de Jurisprudência TCE-PI - Março - 19.docx                                        12\n",
       "Boletim de Jurisprudência TCE-PI -fevereiro 2019.docx                                     11\n",
       "Boletim de Jurisprudência TCE-PI -MARÇO 2020.docx                                         10\n",
       "Boletim de Jurisprudência TCE-PI - Fevereiro - 18.docx                                    10\n",
       "Boletim de Jurisprudência TCE-PI - janeiro 2019.docx                                      10\n",
       "Boletim de Jurisprudência TCE-PI - Maio - 18.docx                                          9\n",
       "Boletim de Jurisprudência TCE-PI - Novembro - 19.docx                                      7\n",
       "Boletim de Jurisprudência TCE-PI - Dezembro-19.docx                                        6\n",
       "Boletim de Jurisprudência TCE-PI - Outubro - 19.docx                                       5\n",
       "Boletim de Jurisprudência TCE-PI - SETEMBRO - 19.docx                                      5\n",
       "Boletim de Jurisprudência TCE-PI - janeiro 2020.docx                                       4\n",
       "Boletim de Jurisprudência TCE-PI -Abril 2020.docx                                          3\n",
       "Boletim de Jurisprudência TCE-PI -fevereiro 2020.docx                                      3\n",
       "Boletim de Jurisprudência TCE-PI -maio 2020 (Iana cavalcanti).docx                         3\n",
       "Name: Arquivo, dtype: int64"
      ]
     },
     "execution_count": 5,
     "metadata": {},
     "output_type": "execute_result"
    }
   ],
   "source": [
    "# Qtde. de registros por arquivo importado\n",
    "df.Arquivo.value_counts()"
   ]
  },
  {
   "cell_type": "markdown",
   "metadata": {},
   "source": [
    "### Análise de áreas temáticas\n",
    "Verifiquei que há grade variedade de áreas, o que dificulta o trabalho. Vou procurar agrupar.\n",
    "\n",
    "Essa são as áreas definidas em [RESOLUÇÃO TCE/PI Nº 15, de 14 de agosto de 2017](https://www.tce.pi.gov.br/wp-content/uploads/2017/08/Resolu%C3%A7%C3%A3o-n%C2%BA-15-17-Elabora%C3%A7%C3%A3o-de-ac%C3%B3rd%C3%A3os-e-ementas.pdf)\n",
    "\n",
    "|                     |  |     |  |   |\n",
    "|------------------------------------|--------------------|---------------------|---------------------|---|\n",
    "| Agente Político                    | Assistência Social | Câmara Municipal    | Consórcios Públicos |   |\n",
    "| Contabilidade                      | Contrato           | Controle Interno    | Controle Social     |   |\n",
    "| Convênio e Instrumentos Congêneres | Despesa            | Dívida Ativa        | Educação            |   |\n",
    "| Fundo Especial                     | Licitação          | Orçamento           | Patrimônio          |   |\n",
    "| Pessoal                            | Planejamento       | Prestação de Contas | Previdência         |   |\n",
    "| Processual                         | Receita            | Responsabilidade    | Saúde               |   |\n",
    "| Transparência                      | Tributação         |                     |                     |   |"
   ]
  },
  {
   "cell_type": "code",
   "execution_count": 6,
   "metadata": {},
   "outputs": [],
   "source": [
    "# Função para normalizar texto, tirando acentuação e colocando em caixa alta\n",
    "def normalize(text):\n",
    "    return unicodedata.normalize(\"NFD\", text).encode('ASCII','ignore').decode('ASCII')\\\n",
    "        .strip().upper()"
   ]
  },
  {
   "cell_type": "code",
   "execution_count": 7,
   "metadata": {},
   "outputs": [
    {
     "name": "stdout",
     "output_type": "stream",
     "text": [
      "Qtde. de áreas temáticas: 29\n"
     ]
    },
    {
     "data": {
      "text/plain": [
       "Pessoal                118\n",
       "Licitação              115\n",
       "Processual              57\n",
       "Prestação de Contas     46\n",
       "Despesa                 38\n",
       "Responsabilidade        36\n",
       "Contrato                35\n",
       "Previdência             28\n",
       "Saúde                   19\n",
       "Agente Político         15\n",
       "Contabilidade           12\n",
       "Transparência           12\n",
       "Convênio                11\n",
       "Receita                 10\n",
       "Educação                 9\n",
       "Tributação               9\n",
       "Câmara Municipal         9\n",
       "Controle interno         7\n",
       "FUNDEB                   4\n",
       "Orçamento                3\n",
       "Controle Interno         2\n",
       "FUNDEF                   2\n",
       "Planejamento             2\n",
       "Prestação de contas      1\n",
       "REPRESENTAÇÃO            1\n",
       "Representação            1\n",
       "Patrimônio               1\n",
       "Recurso                  1\n",
       "Pagamento                1\n",
       "Name: AreaTematica, dtype: int64"
      ]
     },
     "execution_count": 7,
     "metadata": {},
     "output_type": "execute_result"
    }
   ],
   "source": [
    "# Qtde. de registros por área temática\n",
    "print(f'Qtde. de áreas temáticas: {df.AreaTematica.unique().size}')\n",
    "df.AreaTematica.value_counts()"
   ]
  },
  {
   "cell_type": "code",
   "execution_count": 8,
   "metadata": {},
   "outputs": [],
   "source": [
    "# Normalizar áreas\n",
    "df.AreaTematica = df.AreaTematica.apply(normalize)"
   ]
  },
  {
   "cell_type": "code",
   "execution_count": 9,
   "metadata": {},
   "outputs": [
    {
     "name": "stdout",
     "output_type": "stream",
     "text": [
      "Qtde. de áreas temáticas após normalização: 26\n"
     ]
    },
    {
     "data": {
      "text/plain": [
       "PESSOAL                118\n",
       "LICITACAO              115\n",
       "PROCESSUAL              57\n",
       "PRESTACAO DE CONTAS     47\n",
       "DESPESA                 38\n",
       "RESPONSABILIDADE        36\n",
       "CONTRATO                35\n",
       "PREVIDENCIA             28\n",
       "SAUDE                   19\n",
       "AGENTE POLITICO         15\n",
       "CONTABILIDADE           12\n",
       "TRANSPARENCIA           12\n",
       "CONVENIO                11\n",
       "RECEITA                 10\n",
       "EDUCACAO                 9\n",
       "CAMARA MUNICIPAL         9\n",
       "CONTROLE INTERNO         9\n",
       "TRIBUTACAO               9\n",
       "FUNDEB                   4\n",
       "ORCAMENTO                3\n",
       "PLANEJAMENTO             2\n",
       "REPRESENTACAO            2\n",
       "FUNDEF                   2\n",
       "PAGAMENTO                1\n",
       "PATRIMONIO               1\n",
       "RECURSO                  1\n",
       "Name: AreaTematica, dtype: int64"
      ]
     },
     "execution_count": 9,
     "metadata": {},
     "output_type": "execute_result"
    }
   ],
   "source": [
    "# Qtde. de registros por área temática após normalização\n",
    "print(f'Qtde. de áreas temáticas após normalização: {df.AreaTematica.unique().size}')\n",
    "df.AreaTematica.value_counts()"
   ]
  },
  {
   "cell_type": "markdown",
   "metadata": {},
   "source": [
    "#### Àreas presentes nos boletins que não existem na Resolução"
   ]
  },
  {
   "cell_type": "code",
   "execution_count": 10,
   "metadata": {},
   "outputs": [
    {
     "data": {
      "text/plain": [
       "['FUNDEB', 'PAGAMENTO', 'REPRESENTACAO', 'FUNDEF', 'RECURSO']"
      ]
     },
     "execution_count": 10,
     "metadata": {},
     "output_type": "execute_result"
    }
   ],
   "source": [
    "areas_resolucao = ['Agente Político','Assistência Social','Câmara Municipal','Consórcios Públicos',\n",
    "'Contabilidade','Contrato','Controle Interno','Controle Social',\n",
    "'Convênio','Despesa','Dívida Ativa','Educação',\n",
    "'Fundo Especial','Licitação','Orçamento','Patrimônio',\n",
    "'Pessoal','Planejamento','Prestação de Contas','Previdência',\n",
    "'Processual','Receita','Responsabilidade','Saúde',\n",
    "'Transparência','Tributação']\n",
    "areas_resolucao = [normalize(area) for area in areas_resolucao]\n",
    "\n",
    "[area for area in set(df.AreaTematica) if area not in areas_resolucao]"
   ]
  },
  {
   "cell_type": "code",
   "execution_count": 11,
   "metadata": {},
   "outputs": [],
   "source": [
    "# Alterar algumas áreas\n",
    "#df.loc[df.AreaTematica.isin(['FUNDEB', 'FUNDEF']), ['AreaTematica']] = 'EDUCACAO'\n",
    "#df.loc[df.AreaTematica.isin(['PAGAMENTO']), ['AreaTematica']] = 'DESPESA'\n",
    "\n",
    "# Juntar CONTRATO e CONVENIO\n",
    "#df.loc[df.AreaTematica.isin(['CONTRATO', 'CONVENIO']), ['AreaTematica']] = 'CONTRATO_CONVENIO'"
   ]
  },
  {
   "cell_type": "code",
   "execution_count": 12,
   "metadata": {},
   "outputs": [
    {
     "data": {
      "text/plain": [
       "['FUNDEB', 'PAGAMENTO', 'REPRESENTACAO', 'FUNDEF', 'RECURSO']"
      ]
     },
     "execution_count": 12,
     "metadata": {},
     "output_type": "execute_result"
    }
   ],
   "source": [
    "[area for area in set(df.AreaTematica) if area not in areas_resolucao]"
   ]
  },
  {
   "cell_type": "code",
   "execution_count": 13,
   "metadata": {},
   "outputs": [
    {
     "name": "stdout",
     "output_type": "stream",
     "text": [
      "Qtde. de áreas temáticas após normalização: 26\n"
     ]
    },
    {
     "data": {
      "text/plain": [
       "PESSOAL                118\n",
       "LICITACAO              115\n",
       "PROCESSUAL              57\n",
       "PRESTACAO DE CONTAS     47\n",
       "DESPESA                 38\n",
       "RESPONSABILIDADE        36\n",
       "CONTRATO                35\n",
       "PREVIDENCIA             28\n",
       "SAUDE                   19\n",
       "AGENTE POLITICO         15\n",
       "CONTABILIDADE           12\n",
       "TRANSPARENCIA           12\n",
       "CONVENIO                11\n",
       "RECEITA                 10\n",
       "EDUCACAO                 9\n",
       "CAMARA MUNICIPAL         9\n",
       "CONTROLE INTERNO         9\n",
       "TRIBUTACAO               9\n",
       "FUNDEB                   4\n",
       "ORCAMENTO                3\n",
       "PLANEJAMENTO             2\n",
       "REPRESENTACAO            2\n",
       "FUNDEF                   2\n",
       "PAGAMENTO                1\n",
       "PATRIMONIO               1\n",
       "RECURSO                  1\n",
       "Name: AreaTematica, dtype: int64"
      ]
     },
     "execution_count": 13,
     "metadata": {},
     "output_type": "execute_result"
    }
   ],
   "source": [
    "# Qtde. de registros por área temática após alterações\n",
    "print(f'Qtde. de áreas temáticas após normalização: {df.AreaTematica.unique().size}')\n",
    "df.AreaTematica.value_counts()"
   ]
  },
  {
   "cell_type": "markdown",
   "metadata": {},
   "source": [
    "## Criar modelo para predição de classes"
   ]
  },
  {
   "cell_type": "markdown",
   "metadata": {},
   "source": [
    "### Importar bibliotecas do scikit Learning"
   ]
  },
  {
   "cell_type": "code",
   "execution_count": 14,
   "metadata": {},
   "outputs": [
    {
     "name": "stdout",
     "output_type": "stream",
     "text": [
      "Automatically created module for IPython interactive environment\n"
     ]
    }
   ],
   "source": [
    "from sklearn.feature_extraction.text import CountVectorizer\n",
    "from sklearn.feature_extraction.text import TfidfTransformer\n",
    "from sklearn.linear_model import SGDClassifier\n",
    "from sklearn.model_selection import GridSearchCV  # Busca os melhores parâmetros para o treinamento\n",
    "from sklearn.model_selection import train_test_split\n",
    "\n",
    "from sklearn.pipeline import Pipeline\n",
    "\n",
    "from pprint import pprint\n",
    "from time import time\n",
    "import logging\n",
    "\n",
    "print(__doc__)\n",
    "# Display progress logs on stdout (Ajuda a entender em que ponto está a execução. Útl para as combinações feitas pelo GridAearch)\n",
    "logging.basicConfig(level=logging.INFO,format='%(asctime)s %(levelname)s %(message)s')"
   ]
  },
  {
   "cell_type": "markdown",
   "metadata": {},
   "source": [
    "### Modelo baseado na variável Ementa"
   ]
  },
  {
   "cell_type": "code",
   "execution_count": 15,
   "metadata": {},
   "outputs": [],
   "source": [
    "Y = df.AreaTematica.apply(lambda x: x \\\n",
    "                          if x in ['PESSOAL', 'LICITACAO', 'PROCESSUAL', 'PRESTACAO DE CONTAS', 'DESPESA', \\\n",
    "                                   'RESPONSABILIDADE', 'PREVIDENCIA'] \\\n",
    "                          else 'OUTROS')"
   ]
  },
  {
   "cell_type": "code",
   "execution_count": 16,
   "metadata": {},
   "outputs": [
    {
     "data": {
      "text/plain": [
       "<matplotlib.axes._subplots.AxesSubplot at 0x1f3f2d3d9c8>"
      ]
     },
     "execution_count": 16,
     "metadata": {},
     "output_type": "execute_result"
    },
    {
     "data": {
      "image/png": "[encoded data removed]",
      "text/plain": [
       "<Figure size 432x288 with 1 Axes>"
      ]
     },
     "metadata": {
      "needs_background": "light"
     },
     "output_type": "display_data"
    }
   ],
   "source": [
    "Y.value_counts().plot(kind='bar')"
   ]
  },
  {
   "cell_type": "code",
   "execution_count": 17,
   "metadata": {},
   "outputs": [],
   "source": [
    "# Usar comando stratif para garantir que o percentual das classe  permaneça nos 2 conjuntos\n",
    "X_train, X_test, y_train, y_test = \\\n",
    "    train_test_split(df.Ementa, Y, test_size=0.2, stratify=Y, random_state=42)"
   ]
  },
  {
   "cell_type": "code",
   "execution_count": 18,
   "metadata": {
    "scrolled": true
   },
   "outputs": [
    {
     "data": {
      "text/plain": [
       "551    ANÁLISE DE PRESTAÇÃO DE CONTAS. IRREGULARIDADE...\n",
       "148    EMENTA: INCIDENTE PROCESSUAL. FUNDO DE PREVIDÊ...\n",
       "54     EMENTA. PROCESSUAL. PEDIDO DE ARQUIVAMENTO DE ...\n",
       "426    REPRESENTAÇÃO. CONTRATAÇÃO DE EMPRESA EMPEDIDA...\n",
       "440    CÂMARA MUNICIPAL. SUBSÍDIO. IRREGULARIDADE.\\n1...\n",
       "169    DENÚNCIA. LICITAÇÃO. SUPOSTAS IRREGULARIDADES ...\n",
       "264    CONTAS DO FUNDEB. INDICADOR E LIMITE DO FUNDEB...\n",
       "603    CONSULTA. LEGALIDADE DE CONTRATAÇÃO, PELO MUNI...\n",
       "484    AUDITORIA. IRREGULARIDADE QUANTO À SUPERESTIMA...\n",
       "356    EMBARGOS DE DECLARAÇÃO. NÃO COMPROVAÇÃO DE OBS...\n",
       "Name: Ementa, dtype: object"
      ]
     },
     "execution_count": 18,
     "metadata": {},
     "output_type": "execute_result"
    }
   ],
   "source": [
    "X_train[:10]"
   ]
  },
  {
   "cell_type": "code",
   "execution_count": 19,
   "metadata": {},
   "outputs": [
    {
     "name": "stdout",
     "output_type": "stream",
     "text": [
      "TREINO :  (484,) \n",
      " OUTROS                 0.274793\n",
      "PESSOAL                0.194215\n",
      "LICITACAO              0.190083\n",
      "PROCESSUAL             0.095041\n",
      "PRESTACAO DE CONTAS    0.078512\n",
      "DESPESA                0.061983\n",
      "RESPONSABILIDADE       0.059917\n",
      "PREVIDENCIA            0.045455\n",
      "Name: AreaTematica, dtype: float64 \n",
      "\n",
      "TESTE  :  (121,) \n",
      " OUTROS                 0.272727\n",
      "PESSOAL                0.198347\n",
      "LICITACAO              0.190083\n",
      "PROCESSUAL             0.090909\n",
      "PRESTACAO DE CONTAS    0.074380\n",
      "DESPESA                0.066116\n",
      "RESPONSABILIDADE       0.057851\n",
      "PREVIDENCIA            0.049587\n",
      "Name: AreaTematica, dtype: float64\n"
     ]
    }
   ],
   "source": [
    "print('TREINO : ',y_train.shape,'\\n', y_train.value_counts(normalize=True),'\\n')\n",
    "print('TESTE  : ',y_test.shape,'\\n', y_test.value_counts(normalize=True))"
   ]
  },
  {
   "cell_type": "code",
   "execution_count": 20,
   "metadata": {},
   "outputs": [
    {
     "data": {
      "text/plain": [
       "['ANÁLISE DE PRESTAÇÃO DE CONTAS. IRREGULARIDADES IMPUTADOS À SUPERVISORA DO SERVIÇO DE NUTRIÇÃO DA MDER.\\nO termo de referência deve conter as especificações e detalhamentos exigidos no art. 6º, inciso IX, Lei nº 8.666/93; ademais a necessidade de aquisição e adequação do objeto licitatório aos interesses da administração devem ser devidamente comprovadas, nos termos do art. 3º, Lei nº 10.520/2002.',\n",
       " 'EMENTA: INCIDENTE PROCESSUAL. FUNDO DE PREVIDÊNCIA SOCIAL. DESBLOQUEIO DE RECURSOS. APLICAÇÃO DOS PRINCÍPIOS DA RAZOABILIDADE E PROPORCIONALIDADE.\\nConsiderando que as verbas bloqueadas têm natureza alimentar e que o Tesouro Municipal não tem condições imediatas de assumir a responsabilidade do pagamento dos proventos dos servidores municipais inativos, reconhece-se a pertinência do pedido do gestor.',\n",
       " 'EMENTA. PROCESSUAL. PEDIDO DE ARQUIVAMENTO DE TOMADA DE CONTAS ESPECIAL. IMPOSSIBILIDADE.\\nO Regimento Interno do TCE-PI, em seu artigo 412, determina que não caberá recurso de decisão que determinar a instauração de Tomada de Contas, inclusive especial.',\n",
       " 'REPRESENTAÇÃO. CONTRATAÇÃO DE EMPRESA EMPEDIDA DE CONTRATAR COM A ADMINISTRAÇÃO PÚBLICA.\\n1 - A decisão judicial cujo descumprimento originou a demanda foi proferida pela 3ª Vara Federal da Seção Judiciária do Estado do Piauí, e condenou a empresa contratada. e o seu sócio à proibição de contratar com o Poder Público ou receber benefícios ou incentivos fiscais ou creditícios direta ou indiretamente, ainda que por intermédio de pessoa jurídica da qual seja sócio majoritário, pelo prazo de 05 (cinco) anos, nos termos do art. 12, II, da Lei nº 8.429/92, pela prática dos atos de improbidade administrativa capitulados no art. 10º, VIII, deste diploma normativo, tendo transitado em julgado em 28/01/2014 (Peça nº 5). \\n2 - Por outro lado, o Contrato nº 250301/2013, entre a Prefeitura de Várzea Grande e a empresa e sócio apenado, foi firmado em 03/02/2014 (Peça nº 6) e prorrogado em 10/12/2014 (Peça n° 7). Ou seja, sendo assinado e prorrogado mesmo após o trânsito em julgado da decisão, exsurge evidente a sua irregularidade, não havendo o que se discutir quanto a este quesito. Isso porque, registre-se, a decisão judicial já tem sua plena eficácia, independentemente de publicação no site do TCE/PI. Portanto procedente a representação. ',\n",
       " 'CÂMARA MUNICIPAL. SUBSÍDIO. IRREGULARIDADE.\\n1) O subsídio dos Vereadores deve ser fixado em cada legislatura para vigorar na legislatura subsequente, observado os limites e os critérios estabelecidos nos arts. 29, VI e 29-A da Constituição Federal, bem como o art. 31 da Constituição Estadual, podendo ocorrer também a Revisão Anual, sempre respeitando os limites estipulados na Carta Magna (CF, art. 29, VII e art. 29-A, §1º) e na Lei de Responsabilidade Fiscal (LRF, art. 20, III, “a”) destinados à remuneração dos Edis, bem como limitados à capacidade orçamentária e financeira do órgão.']"
      ]
     },
     "execution_count": 20,
     "metadata": {},
     "output_type": "execute_result"
    }
   ],
   "source": [
    "text_train = list(X_train)\n",
    "text_test = list(X_test)\n",
    "text_train[:5]"
   ]
  },
  {
   "cell_type": "code",
   "execution_count": 21,
   "metadata": {},
   "outputs": [
    {
     "name": "stdout",
     "output_type": "stream",
     "text": [
      "['LICITACAO', 'LICITACAO', 'LICITACAO', 'RESPONSABILIDADE', 'OUTROS']\n"
     ]
    }
   ],
   "source": [
    "target_train = list(y_train)\n",
    "target_test = list(y_test)\n",
    "print(target_test[:5])"
   ]
  },
  {
   "cell_type": "code",
   "execution_count": 22,
   "metadata": {},
   "outputs": [],
   "source": [
    "# Define a pipeline combining a text feature extractor with a simple classifier\n",
    "pipeline = Pipeline([\n",
    "    ('vect', CountVectorizer()),\n",
    "    ('tfidf', TfidfTransformer()),\n",
    "    ('clf', SGDClassifier(loss='log')), # default hinge. to get proba=log or modified_huber\n",
    "])"
   ]
  },
  {
   "cell_type": "code",
   "execution_count": 23,
   "metadata": {},
   "outputs": [],
   "source": [
    "# # uncommenting more parameters will give better exploring power but will\n",
    "# # increase processing time in a combinatorial way\n",
    "# parameters = {\n",
    "#     'vect__max_df': (0.5, 0.75, 1.0),\n",
    "#     #\n",
    "#     'vect__max_features': (None, 5000, 10000, 50000),\n",
    "#     'vect__ngram_range': ((1, 1), (1, 2)),  # unigrams or bigrams\n",
    "#     #\n",
    "#     'tfidf__use_idf': (True, False),\n",
    "#     #\n",
    "#     'tfidf__norm': ('l1', 'l2'),\n",
    "#     'clf__max_iter': (20,),\n",
    "#     'clf__alpha': (0.00001, 0.000001),\n",
    "#     'clf__penalty': ('l2', 'elasticnet'),\n",
    "#     #\n",
    "#     'clf__max_iter': (10, 50, 80),\n",
    "# }"
   ]
  },
  {
   "cell_type": "code",
   "execution_count": 24,
   "metadata": {},
   "outputs": [],
   "source": [
    "parameters = {\n",
    "    'vect__max_df': (0.75, 1.0),\n",
    "    #\n",
    "    'vect__max_features': (None, 5000),\n",
    "    'vect__ngram_range': ((1, 1), (1, 2)),  # unigrams or bigrams\n",
    "    #\n",
    "    'tfidf__use_idf': (True, False),\n",
    "    #\n",
    "    'tfidf__norm': ('l1', 'l2'),\n",
    "    #'clf__max_iter': (20,),\n",
    "    'clf__alpha': (0.00001, 0.000001),\n",
    "    'clf__penalty': ('l2', 'elasticnet'),\n",
    "    #\n",
    "    #'clf__max_iter': (10, 50), Não convergiu\n",
    "    'clf__max_iter': (10, 50, 100),\n",
    "}"
   ]
  },
  {
   "cell_type": "code",
   "execution_count": 27,
   "metadata": {},
   "outputs": [],
   "source": [
    "def modelo(X, y):\n",
    "    # multiprocessing requires the fork to happen in a __main__ protected\n",
    "    # block\n",
    "\n",
    "    # find the best parameters for both the feature extraction and the\n",
    "    # classifier\n",
    "    # n_jobs=-1 -> Usar todas as CPUs diponíveis \n",
    "    # verbose=1 -> Exibir o que está fazendo\n",
    "    # cv=3      -> Cross validation em 3 partes\n",
    "    grid_search = GridSearchCV(pipeline, parameters, n_jobs=-1, verbose=1, cv=3)\n",
    "\n",
    "    print(\"Performing grid search...\")\n",
    "    print(\"pipeline:\", [name for name, _ in pipeline.steps])\n",
    "    print(\"parameters:\")\n",
    "    pprint(parameters)\n",
    "    t0 = time()\n",
    "    \n",
    "    #grid_search.fit(text_train, target_train)\n",
    "    grid_search.fit(X, y)\n",
    "    print(\"done in %0.3fs\" % (time() - t0))\n",
    "    print()\n",
    "\n",
    "    print(\"Best score: %0.3f\" % grid_search.best_score_)\n",
    "    print(\"Best parameters set:\")\n",
    "    best_parameters = grid_search.best_estimator_.get_params()\n",
    "    for param_name in sorted(parameters.keys()):\n",
    "        print(\"\\t%s: %r\" % (param_name, best_parameters[param_name]))\n",
    "        \n",
    "    return grid_search"
   ]
  },
  {
   "cell_type": "code",
   "execution_count": 28,
   "metadata": {},
   "outputs": [
    {
     "name": "stdout",
     "output_type": "stream",
     "text": [
      "Performing grid search...\n",
      "pipeline: ['vect', 'tfidf', 'clf']\n",
      "parameters:\n",
      "{'clf__alpha': (1e-05, 1e-06),\n",
      " 'clf__max_iter': (10, 50, 100),\n",
      " 'clf__penalty': ('l2', 'elasticnet'),\n",
      " 'tfidf__norm': ('l1', 'l2'),\n",
      " 'tfidf__use_idf': (True, False),\n",
      " 'vect__max_df': (0.75, 1.0),\n",
      " 'vect__max_features': (None, 5000),\n",
      " 'vect__ngram_range': ((1, 1), (1, 2))}\n",
      "Fitting 3 folds for each of 384 candidates, totalling 1152 fits\n"
     ]
    },
    {
     "name": "stderr",
     "output_type": "stream",
     "text": [
      "[Parallel(n_jobs=-1)]: Using backend LokyBackend with 4 concurrent workers.\n",
      "[Parallel(n_jobs=-1)]: Done  42 tasks      | elapsed:    5.2s\n",
      "[Parallel(n_jobs=-1)]: Done 192 tasks      | elapsed:   18.4s\n",
      "[Parallel(n_jobs=-1)]: Done 442 tasks      | elapsed:   43.3s\n",
      "[Parallel(n_jobs=-1)]: Done 792 tasks      | elapsed:  1.3min\n",
      "[Parallel(n_jobs=-1)]: Done 1152 out of 1152 | elapsed:  1.9min finished\n"
     ]
    },
    {
     "name": "stdout",
     "output_type": "stream",
     "text": [
      "done in 112.336s\n",
      "\n",
      "Best score: 0.736\n",
      "Best parameters set:\n",
      "\tclf__alpha: 1e-06\n",
      "\tclf__max_iter: 100\n",
      "\tclf__penalty: 'l2'\n",
      "\ttfidf__norm: 'l1'\n",
      "\ttfidf__use_idf: False\n",
      "\tvect__max_df: 0.75\n",
      "\tvect__max_features: None\n",
      "\tvect__ngram_range: (1, 2)\n"
     ]
    }
   ],
   "source": [
    "grid_search = modelo(text_train, target_train)"
   ]
  },
  {
   "cell_type": "code",
   "execution_count": 29,
   "metadata": {},
   "outputs": [
    {
     "data": {
      "text/plain": [
       "array(['LICITACAO', 'LICITACAO', 'LICITACAO', 'RESPONSABILIDADE',\n",
       "       'OUTROS', 'OUTROS', 'OUTROS', 'PROCESSUAL', 'PESSOAL', 'LICITACAO',\n",
       "       'PESSOAL', 'OUTROS', 'PESSOAL', 'LICITACAO', 'PESSOAL', 'OUTROS',\n",
       "       'PESSOAL', 'LICITACAO', 'DESPESA', 'LICITACAO', 'OUTROS',\n",
       "       'PROCESSUAL', 'OUTROS', 'OUTROS', 'OUTROS', 'OUTROS', 'OUTROS',\n",
       "       'LICITACAO', 'PESSOAL', 'RESPONSABILIDADE', 'PROCESSUAL', 'OUTROS',\n",
       "       'OUTROS', 'PESSOAL', 'OUTROS', 'OUTROS', 'OUTROS', 'OUTROS',\n",
       "       'OUTROS', 'LICITACAO', 'PROCESSUAL', 'OUTROS', 'OUTROS',\n",
       "       'PROCESSUAL', 'LICITACAO', 'OUTROS', 'OUTROS', 'LICITACAO',\n",
       "       'PESSOAL', 'OUTROS', 'PREVIDENCIA', 'OUTROS', 'OUTROS', 'PESSOAL',\n",
       "       'PRESTACAO DE CONTAS', 'OUTROS', 'PRESTACAO DE CONTAS',\n",
       "       'PRESTACAO DE CONTAS', 'OUTROS', 'PESSOAL', 'PESSOAL', 'OUTROS',\n",
       "       'PROCESSUAL', 'PESSOAL', 'OUTROS', 'OUTROS', 'PESSOAL',\n",
       "       'LICITACAO', 'OUTROS', 'PESSOAL', 'LICITACAO', 'DESPESA',\n",
       "       'PREVIDENCIA', 'LICITACAO', 'LICITACAO', 'OUTROS', 'OUTROS',\n",
       "       'OUTROS', 'LICITACAO', 'OUTROS', 'PESSOAL', 'PROCESSUAL',\n",
       "       'PREVIDENCIA', 'PRESTACAO DE CONTAS', 'PESSOAL', 'PESSOAL',\n",
       "       'OUTROS', 'RESPONSABILIDADE', 'OUTROS', 'OUTROS', 'PROCESSUAL',\n",
       "       'LICITACAO', 'LICITACAO', 'OUTROS', 'PESSOAL', 'PESSOAL', 'OUTROS',\n",
       "       'LICITACAO', 'PROCESSUAL', 'OUTROS', 'OUTROS', 'OUTROS', 'PESSOAL',\n",
       "       'PESSOAL', 'PESSOAL', 'PRESTACAO DE CONTAS', 'RESPONSABILIDADE',\n",
       "       'OUTROS', 'RESPONSABILIDADE', 'PESSOAL', 'PRESTACAO DE CONTAS',\n",
       "       'OUTROS', 'OUTROS', 'PESSOAL', 'OUTROS', 'PESSOAL', 'PREVIDENCIA',\n",
       "       'PRESTACAO DE CONTAS', 'OUTROS', 'OUTROS', 'LICITACAO'],\n",
       "      dtype='<U19')"
      ]
     },
     "execution_count": 29,
     "metadata": {},
     "output_type": "execute_result"
    }
   ],
   "source": [
    "grid_search.best_estimator_.predict(text_test)"
   ]
  },
  {
   "cell_type": "code",
   "execution_count": 30,
   "metadata": {},
   "outputs": [
    {
     "data": {
      "text/plain": [
       "array([[0.00713817, 0.94943676, 0.00559293, 0.00541471, 0.00530672,\n",
       "        0.00364244, 0.00906732, 0.01440094],\n",
       "       [0.01950611, 0.27450205, 0.24266087, 0.17394182, 0.03228414,\n",
       "        0.02036632, 0.02703332, 0.20970536],\n",
       "       [0.01250349, 0.84653546, 0.00503678, 0.00570487, 0.03906056,\n",
       "        0.00708706, 0.04869518, 0.0353766 ],\n",
       "       [0.00615122, 0.0422    , 0.02244139, 0.00489143, 0.01386683,\n",
       "        0.00544695, 0.0038623 , 0.9011399 ],\n",
       "       [0.11700387, 0.00777386, 0.72182814, 0.11195596, 0.00820345,\n",
       "        0.01315021, 0.01619687, 0.00388764],\n",
       "       [0.06797909, 0.03161972, 0.72594203, 0.07750753, 0.0283324 ,\n",
       "        0.02144549, 0.02937414, 0.01779961],\n",
       "       [0.01624981, 0.01892107, 0.83657343, 0.03479455, 0.037459  ,\n",
       "        0.01042133, 0.03305926, 0.01252154],\n",
       "       [0.00615066, 0.01370799, 0.01955137, 0.01298004, 0.00709237,\n",
       "        0.01278144, 0.91630571, 0.01143042],\n",
       "       [0.01016119, 0.0427827 , 0.01534579, 0.89692336, 0.00352582,\n",
       "        0.01536614, 0.00551439, 0.01038062],\n",
       "       [0.0538902 , 0.40513353, 0.32278069, 0.07257777, 0.04177531,\n",
       "        0.03281094, 0.02075357, 0.05027798]])"
      ]
     },
     "execution_count": 30,
     "metadata": {},
     "output_type": "execute_result"
    }
   ],
   "source": [
    "prob_preds= grid_search.best_estimator_.predict_proba(text_test)\n",
    "prob_preds[:10]"
   ]
  },
  {
   "cell_type": "code",
   "execution_count": 31,
   "metadata": {},
   "outputs": [],
   "source": [
    "df_test = pd.DataFrame(columns=['texto','area', 'predicted', 'prob_0','prob_1','prob_2','prob_3','prob_4','prob_5'])\n",
    "df_test['texto'] = text_test\n",
    "df_test['area'] = target_test\n",
    "df_test['predicted'] = grid_search.best_estimator_.predict(text_test)\n",
    "df_test['prob_0'] = prob_preds[0:,0].tolist()\n",
    "df_test['prob_1'] = prob_preds[0:,1].tolist()\n",
    "df_test['prob_2'] = prob_preds[0:,2].tolist()\n",
    "df_test['prob_3'] = prob_preds[0:,3].tolist()\n",
    "df_test['prob_4'] = prob_preds[0:,4].tolist()\n",
    "df_test['prob_5'] = prob_preds[0:,5].tolist()"
   ]
  },
  {
   "cell_type": "code",
   "execution_count": 32,
   "metadata": {},
   "outputs": [
    {
     "name": "stdout",
     "output_type": "stream",
     "text": [
      "(121, 9)\n"
     ]
    },
    {
     "data": {
      "text/html": [
       "<div>\n",
       "<style scoped>\n",
       "    .dataframe tbody tr th:only-of-type {\n",
       "        vertical-align: middle;\n",
       "    }\n",
       "\n",
       "    .dataframe tbody tr th {\n",
       "        vertical-align: top;\n",
       "    }\n",
       "\n",
       "    .dataframe thead th {\n",
       "        text-align: right;\n",
       "    }\n",
       "</style>\n",
       "<table border=\"1\" class=\"dataframe\">\n",
       "  <thead>\n",
       "    <tr style=\"text-align: right;\">\n",
       "      <th></th>\n",
       "      <th>texto</th>\n",
       "      <th>area</th>\n",
       "      <th>predicted</th>\n",
       "      <th>prob_0</th>\n",
       "      <th>prob_1</th>\n",
       "      <th>prob_2</th>\n",
       "      <th>prob_3</th>\n",
       "      <th>prob_4</th>\n",
       "      <th>prob_5</th>\n",
       "    </tr>\n",
       "  </thead>\n",
       "  <tbody>\n",
       "    <tr>\n",
       "      <th>0</th>\n",
       "      <td>AUDITORIA – P.M. DE CRISTINO CASTRO. ACOMPANHA...</td>\n",
       "      <td>LICITACAO</td>\n",
       "      <td>LICITACAO</td>\n",
       "      <td>0.007138</td>\n",
       "      <td>0.949437</td>\n",
       "      <td>0.005593</td>\n",
       "      <td>0.005415</td>\n",
       "      <td>0.005307</td>\n",
       "      <td>0.003642</td>\n",
       "    </tr>\n",
       "    <tr>\n",
       "      <th>1</th>\n",
       "      <td>LICITAÇÕES E CONTRATOS. AUSÊNCIA DO DEVIDO PRO...</td>\n",
       "      <td>LICITACAO</td>\n",
       "      <td>LICITACAO</td>\n",
       "      <td>0.019506</td>\n",
       "      <td>0.274502</td>\n",
       "      <td>0.242661</td>\n",
       "      <td>0.173942</td>\n",
       "      <td>0.032284</td>\n",
       "      <td>0.020366</td>\n",
       "    </tr>\n",
       "    <tr>\n",
       "      <th>2</th>\n",
       "      <td>EMENTA. LICITAÇÃO. IRREGULARIDADES EM PREGÃO P...</td>\n",
       "      <td>LICITACAO</td>\n",
       "      <td>LICITACAO</td>\n",
       "      <td>0.012503</td>\n",
       "      <td>0.846535</td>\n",
       "      <td>0.005037</td>\n",
       "      <td>0.005705</td>\n",
       "      <td>0.039061</td>\n",
       "      <td>0.007087</td>\n",
       "    </tr>\n",
       "    <tr>\n",
       "      <th>3</th>\n",
       "      <td>PRESTAÇÃO DE CONTAS.\\nIrregularidades em licit...</td>\n",
       "      <td>RESPONSABILIDADE</td>\n",
       "      <td>RESPONSABILIDADE</td>\n",
       "      <td>0.006151</td>\n",
       "      <td>0.042200</td>\n",
       "      <td>0.022441</td>\n",
       "      <td>0.004891</td>\n",
       "      <td>0.013867</td>\n",
       "      <td>0.005447</td>\n",
       "    </tr>\n",
       "    <tr>\n",
       "      <th>4</th>\n",
       "      <td>CONSTITUCIONAL. ACÚMULO DE CARGOS. PORTAL DA T...</td>\n",
       "      <td>OUTROS</td>\n",
       "      <td>OUTROS</td>\n",
       "      <td>0.117004</td>\n",
       "      <td>0.007774</td>\n",
       "      <td>0.721828</td>\n",
       "      <td>0.111956</td>\n",
       "      <td>0.008203</td>\n",
       "      <td>0.013150</td>\n",
       "    </tr>\n",
       "  </tbody>\n",
       "</table>\n",
       "</div>"
      ],
      "text/plain": [
       "                                               texto              area  \\\n",
       "0  AUDITORIA – P.M. DE CRISTINO CASTRO. ACOMPANHA...         LICITACAO   \n",
       "1  LICITAÇÕES E CONTRATOS. AUSÊNCIA DO DEVIDO PRO...         LICITACAO   \n",
       "2  EMENTA. LICITAÇÃO. IRREGULARIDADES EM PREGÃO P...         LICITACAO   \n",
       "3  PRESTAÇÃO DE CONTAS.\\nIrregularidades em licit...  RESPONSABILIDADE   \n",
       "4  CONSTITUCIONAL. ACÚMULO DE CARGOS. PORTAL DA T...            OUTROS   \n",
       "\n",
       "          predicted    prob_0    prob_1    prob_2    prob_3    prob_4  \\\n",
       "0         LICITACAO  0.007138  0.949437  0.005593  0.005415  0.005307   \n",
       "1         LICITACAO  0.019506  0.274502  0.242661  0.173942  0.032284   \n",
       "2         LICITACAO  0.012503  0.846535  0.005037  0.005705  0.039061   \n",
       "3  RESPONSABILIDADE  0.006151  0.042200  0.022441  0.004891  0.013867   \n",
       "4            OUTROS  0.117004  0.007774  0.721828  0.111956  0.008203   \n",
       "\n",
       "     prob_5  \n",
       "0  0.003642  \n",
       "1  0.020366  \n",
       "2  0.007087  \n",
       "3  0.005447  \n",
       "4  0.013150  "
      ]
     },
     "execution_count": 32,
     "metadata": {},
     "output_type": "execute_result"
    }
   ],
   "source": [
    "print(df_test.shape)\n",
    "df_test.head()"
   ]
  },
  {
   "cell_type": "code",
   "execution_count": 33,
   "metadata": {},
   "outputs": [
    {
     "data": {
      "text/plain": [
       "array([ True,  True,  True,  True,  True,  True,  True,  True,  True,\n",
       "        True,  True,  True,  True,  True,  True, False,  True,  True,\n",
       "        True, False, False,  True,  True, False,  True,  True,  True,\n",
       "        True,  True,  True,  True,  True,  True,  True, False,  True,\n",
       "        True,  True, False,  True,  True, False, False,  True,  True,\n",
       "        True,  True,  True, False, False,  True, False,  True, False,\n",
       "        True,  True,  True,  True, False, False,  True,  True,  True,\n",
       "        True,  True,  True, False,  True,  True,  True,  True,  True,\n",
       "        True,  True,  True, False, False,  True,  True, False, False,\n",
       "        True, False, False,  True, False, False, False, False, False,\n",
       "        True,  True, False,  True,  True, False, False,  True,  True,\n",
       "       False, False, False, False,  True,  True, False,  True,  True,\n",
       "        True, False,  True,  True,  True, False,  True, False,  True,\n",
       "        True, False,  True,  True])"
      ]
     },
     "execution_count": 33,
     "metadata": {},
     "output_type": "execute_result"
    }
   ],
   "source": [
    "grid_search.best_estimator_.predict(text_test) == target_test"
   ]
  },
  {
   "cell_type": "code",
   "execution_count": 40,
   "metadata": {},
   "outputs": [
    {
     "name": "stdout",
     "output_type": "stream",
     "text": [
      "Score: 0.6859504132231405\n",
      "F1-Score: 0.6818045595065655\n"
     ]
    }
   ],
   "source": [
    "print(f'Score: {grid_search.best_estimator_.score(text_test, target_test)}')\n",
    "                \n",
    "# Avaliar o f1-Score, métrica mais indicada em função dos desbalanceamento das classes\n",
    "from sklearn.metrics import f1_score\n",
    "f1_score_val = f1_score(y_test, grid_search.best_estimator_.predict(X_test), average=\"weighted\")                                                \n",
    "print(f'F1-Score: {f1_score_val}')"
   ]
  },
  {
   "cell_type": "markdown",
   "metadata": {},
   "source": [
    "#### Verificar se faz diferença avaliar os scores usando listas ou diretamente as variáveis do train_test_split"
   ]
  },
  {
   "cell_type": "code",
   "execution_count": 42,
   "metadata": {
    "scrolled": true
   },
   "outputs": [
    {
     "name": "stdout",
     "output_type": "stream",
     "text": [
      "Score: 0.6859504132231405\n",
      "F1-Score: 0.6818045595065655\n"
     ]
    }
   ],
   "source": [
    "# Inverter(em relação ao teste anteriro) o uso de listas e as varáveis do train_test_split\n",
    "print(f'Score: {grid_search.best_estimator_.score(X_test, y_test)}')\n",
    "print(f'F1-Score: {f1_score(target_test, grid_search.best_estimator_.predict(text_test), average=\"weighted\")}')"
   ]
  },
  {
   "cell_type": "markdown",
   "metadata": {},
   "source": [
    "Resultado: deu rigirosamente o mesmo resultado"
   ]
  },
  {
   "cell_type": "code",
   "execution_count": 35,
   "metadata": {},
   "outputs": [
    {
     "data": {
      "text/plain": [
       "<sklearn.metrics._plot.confusion_matrix.ConfusionMatrixDisplay at 0x1f3f5235c08>"
      ]
     },
     "execution_count": 35,
     "metadata": {},
     "output_type": "execute_result"
    },
    {
     "data": {
      "image/png": "[encoded data removed]",
      "text/plain": [
       "<Figure size 432x288 with 2 Axes>"
      ]
     },
     "metadata": {
      "needs_background": "light"
     },
     "output_type": "display_data"
    }
   ],
   "source": [
    "from sklearn.metrics import plot_confusion_matrix\n",
    "plot_confusion_matrix(grid_search.best_estimator_, X_test, y_test)"
   ]
  },
  {
   "cell_type": "markdown",
   "metadata": {},
   "source": [
    "#### Suposições\n",
    "- Mover PRESTAÇÃO DE CONTAS para OUTROS irá melhorar desempenho, pois o modelo está errando em quase 50%, prevendo OUTROS\n",
    "- Melhor estratégia para melhorar desempenho será removendo OUTROS"
   ]
  },
  {
   "cell_type": "markdown",
   "metadata": {},
   "source": [
    "### Testar  PRESTAÇÃO DE CONTAS e  DESPESA como OUTROS"
   ]
  },
  {
   "cell_type": "code",
   "execution_count": 36,
   "metadata": {},
   "outputs": [
    {
     "data": {
      "text/plain": [
       "<matplotlib.axes._subplots.AxesSubplot at 0x1f3f8e610c8>"
      ]
     },
     "execution_count": 36,
     "metadata": {},
     "output_type": "execute_result"
    },
    {
     "data": {
      "image/png": "[encoded data removed]",
      "text/plain": [
       "<Figure size 432x288 with 1 Axes>"
      ]
     },
     "metadata": {
      "needs_background": "light"
     },
     "output_type": "display_data"
    }
   ],
   "source": [
    "Y = df.AreaTematica.apply(lambda x: x \\\n",
    "                          if x in ['PESSOAL', 'LICITACAO', 'PROCESSUAL', 'RESPONSABILIDADE', 'PREVIDENCIA'] \\\n",
    "                          else 'OUTROS')\n",
    "Y.value_counts().plot(kind='bar')"
   ]
  },
  {
   "cell_type": "code",
   "execution_count": 38,
   "metadata": {},
   "outputs": [],
   "source": [
    "# Função para excutar criação do modelo e validar resultados\n",
    "def model_test(X, Y):\n",
    "    X_train, X_test, y_train, y_test = \\\n",
    "        train_test_split(X, Y, test_size=0.2, stratify=Y, random_state=42)\n",
    "\n",
    "    text_train = list(X_train)\n",
    "    text_test = list(X_test)\n",
    "    target_train = list(y_train)\n",
    "    target_test = list(y_test)\n",
    "\n",
    "    grid_search = modelo(text_train, target_train)\n",
    "\n",
    "    print('Score: ', grid_search.best_estimator_.score(text_test, target_test))\n",
    "    print('F1-Score: ', f1_score(target_test, grid_search.best_estimator_.predict(text_test), average=\"weighted\"))\n",
    "    \n",
    "\n",
    "    plot_confusion_matrix(grid_search.best_estimator_, X_test, y_test)"
   ]
  },
  {
   "cell_type": "code",
   "execution_count": 39,
   "metadata": {},
   "outputs": [
    {
     "name": "stdout",
     "output_type": "stream",
     "text": [
      "Performing grid search...\n",
      "pipeline: ['vect', 'tfidf', 'clf']\n",
      "parameters:\n",
      "{'clf__alpha': (1e-05, 1e-06),\n",
      " 'clf__max_iter': (10, 50, 100),\n",
      " 'clf__penalty': ('l2', 'elasticnet'),\n",
      " 'tfidf__norm': ('l1', 'l2'),\n",
      " 'tfidf__use_idf': (True, False),\n",
      " 'vect__max_df': (0.75, 1.0),\n",
      " 'vect__max_features': (None, 5000),\n",
      " 'vect__ngram_range': ((1, 1), (1, 2))}\n",
      "Fitting 3 folds for each of 384 candidates, totalling 1152 fits\n"
     ]
    },
    {
     "name": "stderr",
     "output_type": "stream",
     "text": [
      "[Parallel(n_jobs=-1)]: Using backend LokyBackend with 4 concurrent workers.\n",
      "[Parallel(n_jobs=-1)]: Done  42 tasks      | elapsed:    5.2s\n",
      "[Parallel(n_jobs=-1)]: Done 192 tasks      | elapsed:   16.8s\n",
      "[Parallel(n_jobs=-1)]: Done 442 tasks      | elapsed:   36.2s\n",
      "[Parallel(n_jobs=-1)]: Done 792 tasks      | elapsed:  1.1min\n",
      "[Parallel(n_jobs=-1)]: Done 1152 out of 1152 | elapsed:  1.7min finished\n",
      "C:\\Users\\antonio.moreira\\AppData\\Local\\Continuum\\anaconda3\\envs\\ocr\\lib\\site-packages\\sklearn\\linear_model\\_stochastic_gradient.py:557: ConvergenceWarning: Maximum number of iteration reached before convergence. Consider increasing max_iter to improve the fit.\n",
      "  ConvergenceWarning)\n"
     ]
    },
    {
     "name": "stdout",
     "output_type": "stream",
     "text": [
      "done in 99.996s\n",
      "\n",
      "Best score: 0.767\n",
      "Best parameters set:\n",
      "\tclf__alpha: 1e-05\n",
      "\tclf__max_iter: 10\n",
      "\tclf__penalty: 'elasticnet'\n",
      "\ttfidf__norm: 'l2'\n",
      "\ttfidf__use_idf: False\n",
      "\tvect__max_df: 0.75\n",
      "\tvect__max_features: None\n",
      "\tvect__ngram_range: (1, 1)\n",
      "Score:  0.7272727272727273\n",
      "F1-Score:  0.723178601452312\n"
     ]
    },
    {
     "data": {
      "image/png": "[encoded data removed]",
      "text/plain": [
       "<Figure size 432x288 with 2 Axes>"
      ]
     },
     "metadata": {
      "needs_background": "light"
     },
     "output_type": "display_data"
    }
   ],
   "source": [
    "model_test(df.Ementa, Y)"
   ]
  },
  {
   "cell_type": "markdown",
   "metadata": {},
   "source": [
    "### Testar descartando OUTROS e mantendo as 7 classes usadas anteriormente"
   ]
  },
  {
   "cell_type": "code",
   "execution_count": 43,
   "metadata": {},
   "outputs": [],
   "source": [
    "df1 = df.copy()"
   ]
  },
  {
   "cell_type": "code",
   "execution_count": 44,
   "metadata": {},
   "outputs": [],
   "source": [
    "df1.AreaTematica = df1.AreaTematica.apply(lambda x: x \\\n",
    "                          if x in ['PESSOAL', 'LICITACAO', 'PROCESSUAL', 'PRESTACAO DE CONTAS', 'DESPESA', \\\n",
    "                                   'RESPONSABILIDADE', 'PREVIDENCIA'] \\\n",
    "                          else 'OUTROS')"
   ]
  },
  {
   "cell_type": "code",
   "execution_count": 45,
   "metadata": {},
   "outputs": [
    {
     "data": {
      "text/plain": [
       "OUTROS                 166\n",
       "PESSOAL                118\n",
       "LICITACAO              115\n",
       "PROCESSUAL              57\n",
       "PRESTACAO DE CONTAS     47\n",
       "DESPESA                 38\n",
       "RESPONSABILIDADE        36\n",
       "PREVIDENCIA             28\n",
       "Name: AreaTematica, dtype: int64"
      ]
     },
     "execution_count": 45,
     "metadata": {},
     "output_type": "execute_result"
    }
   ],
   "source": [
    "df1.AreaTematica.value_counts()"
   ]
  },
  {
   "cell_type": "code",
   "execution_count": 46,
   "metadata": {},
   "outputs": [
    {
     "data": {
      "text/plain": [
       "PESSOAL                118\n",
       "LICITACAO              115\n",
       "PROCESSUAL              57\n",
       "PRESTACAO DE CONTAS     47\n",
       "DESPESA                 38\n",
       "RESPONSABILIDADE        36\n",
       "PREVIDENCIA             28\n",
       "Name: AreaTematica, dtype: int64"
      ]
     },
     "execution_count": 46,
     "metadata": {},
     "output_type": "execute_result"
    }
   ],
   "source": [
    "df1 = df1[df1.AreaTematica!='OUTROS']\n",
    "df1.AreaTematica.value_counts()"
   ]
  },
  {
   "cell_type": "code",
   "execution_count": 47,
   "metadata": {},
   "outputs": [
    {
     "name": "stdout",
     "output_type": "stream",
     "text": [
      "Performing grid search...\n",
      "pipeline: ['vect', 'tfidf', 'clf']\n",
      "parameters:\n",
      "{'clf__alpha': (1e-05, 1e-06),\n",
      " 'clf__max_iter': (10, 50, 100),\n",
      " 'clf__penalty': ('l2', 'elasticnet'),\n",
      " 'tfidf__norm': ('l1', 'l2'),\n",
      " 'tfidf__use_idf': (True, False),\n",
      " 'vect__max_df': (0.75, 1.0),\n",
      " 'vect__max_features': (None, 5000),\n",
      " 'vect__ngram_range': ((1, 1), (1, 2))}\n",
      "Fitting 3 folds for each of 384 candidates, totalling 1152 fits\n"
     ]
    },
    {
     "name": "stderr",
     "output_type": "stream",
     "text": [
      "[Parallel(n_jobs=-1)]: Using backend LokyBackend with 4 concurrent workers.\n",
      "[Parallel(n_jobs=-1)]: Done  42 tasks      | elapsed:    4.7s\n",
      "[Parallel(n_jobs=-1)]: Done 192 tasks      | elapsed:   13.4s\n",
      "[Parallel(n_jobs=-1)]: Done 442 tasks      | elapsed:   31.4s\n",
      "[Parallel(n_jobs=-1)]: Done 792 tasks      | elapsed:   53.6s\n",
      "[Parallel(n_jobs=-1)]: Done 1152 out of 1152 | elapsed:  1.3min finished\n",
      "C:\\Users\\antonio.moreira\\AppData\\Local\\Continuum\\anaconda3\\envs\\ocr\\lib\\site-packages\\sklearn\\linear_model\\_stochastic_gradient.py:557: ConvergenceWarning: Maximum number of iteration reached before convergence. Consider increasing max_iter to improve the fit.\n",
      "  ConvergenceWarning)\n"
     ]
    },
    {
     "name": "stdout",
     "output_type": "stream",
     "text": [
      "done in 80.438s\n",
      "\n",
      "Best score: 0.798\n",
      "Best parameters set:\n",
      "\tclf__alpha: 1e-05\n",
      "\tclf__max_iter: 10\n",
      "\tclf__penalty: 'l2'\n",
      "\ttfidf__norm: 'l2'\n",
      "\ttfidf__use_idf: True\n",
      "\tvect__max_df: 0.75\n",
      "\tvect__max_features: None\n",
      "\tvect__ngram_range: (1, 1)\n",
      "Score:  0.7386363636363636\n",
      "F1-Score:  0.7328525189980298\n"
     ]
    },
    {
     "data": {
      "image/png": "[encoded data removed]",
      "text/plain": [
       "<Figure size 432x288 with 2 Axes>"
      ]
     },
     "metadata": {
      "needs_background": "light"
     },
     "output_type": "display_data"
    }
   ],
   "source": [
    "model_test(df1.Ementa, df1.AreaTematica)"
   ]
  },
  {
   "cell_type": "markdown",
   "metadata": {},
   "source": [
    "### Testar descartando OUTROS e somente com as quatros classes principais"
   ]
  },
  {
   "cell_type": "code",
   "execution_count": 48,
   "metadata": {},
   "outputs": [
    {
     "data": {
      "text/plain": [
       "PESSOAL                118\n",
       "LICITACAO              115\n",
       "PROCESSUAL              57\n",
       "PRESTACAO DE CONTAS     47\n",
       "Name: AreaTematica, dtype: int64"
      ]
     },
     "execution_count": 48,
     "metadata": {},
     "output_type": "execute_result"
    }
   ],
   "source": [
    "df1.AreaTematica = df1.AreaTematica.apply(lambda x: x \\\n",
    "                          if x in ['PESSOAL', 'LICITACAO', 'PROCESSUAL', 'PRESTACAO DE CONTAS'] \\\n",
    "                          else 'OUTROS')\n",
    "\n",
    "df1 = df1[df1.AreaTematica!='OUTROS']\n",
    "df1.AreaTematica.value_counts()"
   ]
  },
  {
   "cell_type": "code",
   "execution_count": 49,
   "metadata": {},
   "outputs": [
    {
     "name": "stdout",
     "output_type": "stream",
     "text": [
      "Performing grid search...\n",
      "pipeline: ['vect', 'tfidf', 'clf']\n",
      "parameters:\n",
      "{'clf__alpha': (1e-05, 1e-06),\n",
      " 'clf__max_iter': (10, 50, 100),\n",
      " 'clf__penalty': ('l2', 'elasticnet'),\n",
      " 'tfidf__norm': ('l1', 'l2'),\n",
      " 'tfidf__use_idf': (True, False),\n",
      " 'vect__max_df': (0.75, 1.0),\n",
      " 'vect__max_features': (None, 5000),\n",
      " 'vect__ngram_range': ((1, 1), (1, 2))}\n",
      "Fitting 3 folds for each of 384 candidates, totalling 1152 fits\n"
     ]
    },
    {
     "name": "stderr",
     "output_type": "stream",
     "text": [
      "[Parallel(n_jobs=-1)]: Using backend LokyBackend with 4 concurrent workers.\n",
      "[Parallel(n_jobs=-1)]: Done  76 tasks      | elapsed:    2.6s\n",
      "[Parallel(n_jobs=-1)]: Done 376 tasks      | elapsed:   13.5s\n",
      "[Parallel(n_jobs=-1)]: Done 876 tasks      | elapsed:   33.4s\n",
      "[Parallel(n_jobs=-1)]: Done 1152 out of 1152 | elapsed:   45.1s finished\n",
      "C:\\Users\\antonio.moreira\\AppData\\Local\\Continuum\\anaconda3\\envs\\ocr\\lib\\site-packages\\sklearn\\linear_model\\_stochastic_gradient.py:557: ConvergenceWarning: Maximum number of iteration reached before convergence. Consider increasing max_iter to improve the fit.\n",
      "  ConvergenceWarning)\n"
     ]
    },
    {
     "name": "stdout",
     "output_type": "stream",
     "text": [
      "done in 45.324s\n",
      "\n",
      "Best score: 0.862\n",
      "Best parameters set:\n",
      "\tclf__alpha: 1e-05\n",
      "\tclf__max_iter: 10\n",
      "\tclf__penalty: 'l2'\n",
      "\ttfidf__norm: 'l2'\n",
      "\ttfidf__use_idf: True\n",
      "\tvect__max_df: 1.0\n",
      "\tvect__max_features: 5000\n",
      "\tvect__ngram_range: (1, 1)\n",
      "Score:  0.9558823529411765\n",
      "F1-Score:  0.9558690142723755\n"
     ]
    },
    {
     "data": {
      "image/png": "[encoded data removed]",
      "text/plain": [
       "<Figure size 432x288 with 2 Axes>"
      ]
     },
     "metadata": {
      "needs_background": "light"
     },
     "output_type": "display_data"
    }
   ],
   "source": [
    "model_test(df1.Ementa, df1.AreaTematica)"
   ]
  },
  {
   "cell_type": "code",
   "execution_count": null,
   "metadata": {},
   "outputs": [],
   "source": []
  }
 ],
 "metadata": {
  "kernelspec": {
   "display_name": "Python 3.7.6 64-bit ('ocr': conda)",
   "language": "python",
   "name": "python37664bitocrcondaa482dcc5ccb14657a8e6f927a54e138a"
  },
  "language_info": {
   "codemirror_mode": {
    "name": "ipython",
    "version": 3
   },
   "file_extension": ".py",
   "mimetype": "text/x-python",
   "name": "python",
   "nbconvert_exporter": "python",
   "pygments_lexer": "ipython3",
   "version": "3.7.6"
  }
 },
 "nbformat": 4,
 "nbformat_minor": 4
}
