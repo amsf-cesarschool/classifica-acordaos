{
 "cells": [
  {
   "cell_type": "markdown",
   "metadata": {},
   "source": [
    "# Normaliza texto de ementa de acordãos e pareceres prévios\n",
    "Versão 2"
   ]
  },
  {
   "cell_type": "markdown",
   "metadata": {},
   "source": [
    "## Introdução\n",
    "Fonte de dados: arquivo 'data/raw/tce_acordaos_e_pareceres_com_ementas.csv' <br>\n",
    "Normaliza o campo ementa e exporta dados para arquivo 'data/processed/tce_ementas_de_acordaos_e_pareceres.csv'\n",
    "\n",
    "Criado por Antonio Filho em 09/11/2020\n"
   ]
  },
  {
   "cell_type": "markdown",
   "metadata": {},
   "source": [
    "## Importação das bibliotecas"
   ]
  },
  {
   "cell_type": "code",
   "execution_count": 2,
   "metadata": {},
   "outputs": [],
   "source": [
    "import pandas as pd\n",
    "import numpy as np\n",
    "\n",
    "from pathlib import Path\n",
    "\n",
    "import os\n",
    "import sys\n",
    "sys.path.insert(0, os.path.abspath('../../src'))\n",
    "#sys.path.insert(0, os.path.abspath('../../src/preparation'))\n",
    "\n",
    "from acordaos_utils import clean_text\n",
    "import nlp_utils"
   ]
  },
  {
   "cell_type": "markdown",
   "metadata": {},
   "source": [
    "## Criar dataset de todas as decisões (acórdãos e pareceres)"
   ]
  },
  {
   "cell_type": "code",
   "execution_count": 3,
   "metadata": {},
   "outputs": [],
   "source": [
    "caminho_dados = Path(\"../../data/raw/\")\n",
    "df_decisoes = pd.read_csv(caminho_dados/\"tce_acordaos_e_pareceres_com_ementas.csv\", sep=\";\")"
   ]
  },
  {
   "cell_type": "code",
   "execution_count": 4,
   "metadata": {},
   "outputs": [
    {
     "name": "stdout",
     "output_type": "stream",
     "text": [
      "<class 'pandas.core.frame.DataFrame'>\n",
      "RangeIndex: 18921 entries, 0 to 18920\n",
      "Data columns (total 17 columns):\n",
      " #   Column            Non-Null Count  Dtype  \n",
      "---  ------            --------------  -----  \n",
      " 0   cod_tce           18921 non-null  object \n",
      " 1   cod_processo      18921 non-null  object \n",
      " 2   tipo_processo     18921 non-null  object \n",
      " 3   cod_ato           18921 non-null  int64  \n",
      " 4   tipo_ato          18921 non-null  object \n",
      " 5   peca              18921 non-null  int64  \n",
      " 6   caminho           18921 non-null  object \n",
      " 7   conselheiro       15713 non-null  object \n",
      " 8   texto             18877 non-null  object \n",
      " 9   linhas            18918 non-null  object \n",
      " 10  decisao_tipo      18866 non-null  object \n",
      " 11  decisao_numero    18866 non-null  object \n",
      " 12  decisao_ano       18866 non-null  float64\n",
      " 13  info_processuais  15354 non-null  object \n",
      " 14  ementa            18859 non-null  object \n",
      " 15  sumario           4893 non-null   object \n",
      " 16  tamanho_ementa    18864 non-null  float64\n",
      "dtypes: float64(2), int64(2), object(13)\n",
      "memory usage: 2.5+ MB\n"
     ]
    }
   ],
   "source": [
    "df_decisoes.info()"
   ]
  },
  {
   "cell_type": "code",
   "execution_count": 5,
   "metadata": {
    "scrolled": false
   },
   "outputs": [
    {
     "data": {
      "text/html": [
       "<div>\n",
       "<style scoped>\n",
       "    .dataframe tbody tr th:only-of-type {\n",
       "        vertical-align: middle;\n",
       "    }\n",
       "\n",
       "    .dataframe tbody tr th {\n",
       "        vertical-align: top;\n",
       "    }\n",
       "\n",
       "    .dataframe thead th {\n",
       "        text-align: right;\n",
       "    }\n",
       "</style>\n",
       "<table border=\"1\" class=\"dataframe\">\n",
       "  <thead>\n",
       "    <tr style=\"text-align: right;\">\n",
       "      <th></th>\n",
       "      <th>cod_tce</th>\n",
       "      <th>cod_processo</th>\n",
       "      <th>tipo_processo</th>\n",
       "      <th>cod_ato</th>\n",
       "      <th>tipo_ato</th>\n",
       "      <th>peca</th>\n",
       "      <th>caminho</th>\n",
       "      <th>conselheiro</th>\n",
       "      <th>texto</th>\n",
       "      <th>linhas</th>\n",
       "      <th>decisao_tipo</th>\n",
       "      <th>decisao_numero</th>\n",
       "      <th>decisao_ano</th>\n",
       "      <th>info_processuais</th>\n",
       "      <th>ementa</th>\n",
       "      <th>sumario</th>\n",
       "      <th>tamanho_ementa</th>\n",
       "    </tr>\n",
       "  </thead>\n",
       "  <tbody>\n",
       "    <tr>\n",
       "      <th>0</th>\n",
       "      <td>000132/2017</td>\n",
       "      <td>TC/000132/2017</td>\n",
       "      <td>CONTROLE SOCIAL - DENÚNCIA</td>\n",
       "      <td>1284960</td>\n",
       "      <td>ACÓRDÃO DE CÂMARA</td>\n",
       "      <td>23</td>\n",
       "      <td>/2017/06/688336/133/2/805temp/ACOCAM.pdf</td>\n",
       "      <td>NaN</td>\n",
       "      <td>ACORDÃO Nº 1647/2017\\n\\n\\nPROCESSO TC Nº 00013...</td>\n",
       "      <td>[{'page': 1, 'x0': 245, 'x1': 380, 'bottom': 1...</td>\n",
       "      <td>acordao</td>\n",
       "      <td>1647</td>\n",
       "      <td>2017.0</td>\n",
       "      <td>PROCESSO TC Nº 000132/2017\\nDECISÃO Nº 343/17\\...</td>\n",
       "      <td>Denúncia contra a Prefeitura Municipal de\\nCal...</td>\n",
       "      <td>NaN</td>\n",
       "      <td>115.0</td>\n",
       "    </tr>\n",
       "    <tr>\n",
       "      <th>1</th>\n",
       "      <td>000189/2014</td>\n",
       "      <td>TC/000189/2014</td>\n",
       "      <td>INATIVAÇÃO - APOSENTADORIA</td>\n",
       "      <td>262333</td>\n",
       "      <td>ACÓRDÃO DE CÂMARA</td>\n",
       "      <td>10</td>\n",
       "      <td>/2014/07/623635/12/2/587temp/ACOCAM.pdf</td>\n",
       "      <td>NaN</td>\n",
       "      <td>ACÓRDÃO N.º 788/2014\\n\\nProcesso TC/000189/201...</td>\n",
       "      <td>[{'page': 1, 'x0': 70, 'x1': 316, 'bottom': 13...</td>\n",
       "      <td>acordao</td>\n",
       "      <td>788</td>\n",
       "      <td>2014.0</td>\n",
       "      <td>Processo TC/000189/2014\\nAssunto: Aposentadori...</td>\n",
       "      <td>EMENTA: APOSENTADORIA VOLUNTÁRIA POR\\nIDADE E ...</td>\n",
       "      <td>NaN</td>\n",
       "      <td>158.0</td>\n",
       "    </tr>\n",
       "    <tr>\n",
       "      <th>2</th>\n",
       "      <td>000135/2020</td>\n",
       "      <td>TC/000135/2020</td>\n",
       "      <td>DOS RECURSOS - RECURSO DE RECONSIDERAÇÃO</td>\n",
       "      <td>2462530</td>\n",
       "      <td>ACÓRDÃO DE CÂMARA</td>\n",
       "      <td>15</td>\n",
       "      <td>/2020/03//770683/8/2/17032020_095623_46033325D...</td>\n",
       "      <td>NaN</td>\n",
       "      <td>ACÓRDÃO Nº 317/2020\\nPROCESSO: TC/000135/2020\\...</td>\n",
       "      <td>[{'page': 1, 'x0': 245, 'x1': 377, 'bottom': 1...</td>\n",
       "      <td>acordao</td>\n",
       "      <td>317</td>\n",
       "      <td>2020.0</td>\n",
       "      <td>PROCESSO: TC/000135/2020\\nASSUNTO: RECURSO DE ...</td>\n",
       "      <td>EMENTA: RECURSO DE RECONSIDERAÇÃO. FALHAS QUE\\...</td>\n",
       "      <td>Sumário. Recurso de Reconsideração em face do ...</td>\n",
       "      <td>297.0</td>\n",
       "    </tr>\n",
       "    <tr>\n",
       "      <th>3</th>\n",
       "      <td>000271/2017</td>\n",
       "      <td>TC/000271/2017</td>\n",
       "      <td>FISCALIZAÇÃO - AUDITORIA</td>\n",
       "      <td>1389052</td>\n",
       "      <td>ACÓRDÃO DO PLENO</td>\n",
       "      <td>35</td>\n",
       "      <td>/2017/09/688475/133/3/604temp/ACOPLE.pdf</td>\n",
       "      <td>NaN</td>\n",
       "      <td>ACORDÃO Nº 2.504/17\\n\\nPROCESSO TC Nº 000271/2...</td>\n",
       "      <td>[{'page': 1, 'x0': 250, 'x1': 376, 'bottom': 1...</td>\n",
       "      <td>acordao</td>\n",
       "      <td>2504</td>\n",
       "      <td>2017.0</td>\n",
       "      <td>PROCESSO TC Nº 000271/2017\\nDECISÃO Nº 1.328/1...</td>\n",
       "      <td>EMENTA. INSPEÇÃO ORDINÁRIA. VERIFICAÇÃO DE\\nRE...</td>\n",
       "      <td>NaN</td>\n",
       "      <td>729.0</td>\n",
       "    </tr>\n",
       "    <tr>\n",
       "      <th>4</th>\n",
       "      <td>000244/2017</td>\n",
       "      <td>TC/000244/2017</td>\n",
       "      <td>CONTROLE SOCIAL - DENÚNCIA</td>\n",
       "      <td>1255656</td>\n",
       "      <td>ACÓRDÃO DE CÂMARA</td>\n",
       "      <td>20</td>\n",
       "      <td>/2017/05/688448/133/2/117temp/ACOCAM.pdf</td>\n",
       "      <td>NaN</td>\n",
       "      <td>ACORDÃO Nº 1.269/2017\\n\\n\\nPROCESSO TC Nº 0002...</td>\n",
       "      <td>[{'page': 1, 'x0': 244, 'x1': 382, 'bottom': 1...</td>\n",
       "      <td>acordao</td>\n",
       "      <td>1269</td>\n",
       "      <td>2017.0</td>\n",
       "      <td>PROCESSO TC Nº 000244/2017\\nDECISÃO Nº 261/17\\...</td>\n",
       "      <td>Denúncia contra FUESPI. Unânime, concordando\\n...</td>\n",
       "      <td>NaN</td>\n",
       "      <td>201.0</td>\n",
       "    </tr>\n",
       "  </tbody>\n",
       "</table>\n",
       "</div>"
      ],
      "text/plain": [
       "       cod_tce    cod_processo                             tipo_processo  \\\n",
       "0  000132/2017  TC/000132/2017                CONTROLE SOCIAL - DENÚNCIA   \n",
       "1  000189/2014  TC/000189/2014                INATIVAÇÃO - APOSENTADORIA   \n",
       "2  000135/2020  TC/000135/2020  DOS RECURSOS - RECURSO DE RECONSIDERAÇÃO   \n",
       "3  000271/2017  TC/000271/2017                  FISCALIZAÇÃO - AUDITORIA   \n",
       "4  000244/2017  TC/000244/2017                CONTROLE SOCIAL - DENÚNCIA   \n",
       "\n",
       "   cod_ato           tipo_ato  peca  \\\n",
       "0  1284960  ACÓRDÃO DE CÂMARA    23   \n",
       "1   262333  ACÓRDÃO DE CÂMARA    10   \n",
       "2  2462530  ACÓRDÃO DE CÂMARA    15   \n",
       "3  1389052   ACÓRDÃO DO PLENO    35   \n",
       "4  1255656  ACÓRDÃO DE CÂMARA    20   \n",
       "\n",
       "                                             caminho conselheiro  \\\n",
       "0           /2017/06/688336/133/2/805temp/ACOCAM.pdf         NaN   \n",
       "1            /2014/07/623635/12/2/587temp/ACOCAM.pdf         NaN   \n",
       "2  /2020/03//770683/8/2/17032020_095623_46033325D...         NaN   \n",
       "3           /2017/09/688475/133/3/604temp/ACOPLE.pdf         NaN   \n",
       "4           /2017/05/688448/133/2/117temp/ACOCAM.pdf         NaN   \n",
       "\n",
       "                                               texto  \\\n",
       "0  ACORDÃO Nº 1647/2017\\n\\n\\nPROCESSO TC Nº 00013...   \n",
       "1  ACÓRDÃO N.º 788/2014\\n\\nProcesso TC/000189/201...   \n",
       "2  ACÓRDÃO Nº 317/2020\\nPROCESSO: TC/000135/2020\\...   \n",
       "3  ACORDÃO Nº 2.504/17\\n\\nPROCESSO TC Nº 000271/2...   \n",
       "4  ACORDÃO Nº 1.269/2017\\n\\n\\nPROCESSO TC Nº 0002...   \n",
       "\n",
       "                                              linhas decisao_tipo  \\\n",
       "0  [{'page': 1, 'x0': 245, 'x1': 380, 'bottom': 1...      acordao   \n",
       "1  [{'page': 1, 'x0': 70, 'x1': 316, 'bottom': 13...      acordao   \n",
       "2  [{'page': 1, 'x0': 245, 'x1': 377, 'bottom': 1...      acordao   \n",
       "3  [{'page': 1, 'x0': 250, 'x1': 376, 'bottom': 1...      acordao   \n",
       "4  [{'page': 1, 'x0': 244, 'x1': 382, 'bottom': 1...      acordao   \n",
       "\n",
       "  decisao_numero  decisao_ano  \\\n",
       "0           1647       2017.0   \n",
       "1            788       2014.0   \n",
       "2            317       2020.0   \n",
       "3           2504       2017.0   \n",
       "4           1269       2017.0   \n",
       "\n",
       "                                    info_processuais  \\\n",
       "0  PROCESSO TC Nº 000132/2017\\nDECISÃO Nº 343/17\\...   \n",
       "1  Processo TC/000189/2014\\nAssunto: Aposentadori...   \n",
       "2  PROCESSO: TC/000135/2020\\nASSUNTO: RECURSO DE ...   \n",
       "3  PROCESSO TC Nº 000271/2017\\nDECISÃO Nº 1.328/1...   \n",
       "4  PROCESSO TC Nº 000244/2017\\nDECISÃO Nº 261/17\\...   \n",
       "\n",
       "                                              ementa  \\\n",
       "0  Denúncia contra a Prefeitura Municipal de\\nCal...   \n",
       "1  EMENTA: APOSENTADORIA VOLUNTÁRIA POR\\nIDADE E ...   \n",
       "2  EMENTA: RECURSO DE RECONSIDERAÇÃO. FALHAS QUE\\...   \n",
       "3  EMENTA. INSPEÇÃO ORDINÁRIA. VERIFICAÇÃO DE\\nRE...   \n",
       "4  Denúncia contra FUESPI. Unânime, concordando\\n...   \n",
       "\n",
       "                                             sumario  tamanho_ementa  \n",
       "0                                                NaN           115.0  \n",
       "1                                                NaN           158.0  \n",
       "2  Sumário. Recurso de Reconsideração em face do ...           297.0  \n",
       "3                                                NaN           729.0  \n",
       "4                                                NaN           201.0  "
      ]
     },
     "execution_count": 5,
     "metadata": {},
     "output_type": "execute_result"
    }
   ],
   "source": [
    "df_decisoes.head()"
   ]
  },
  {
   "cell_type": "markdown",
   "metadata": {},
   "source": [
    "### Remover colunas que não serão aproveitadas"
   ]
  },
  {
   "cell_type": "code",
   "execution_count": 6,
   "metadata": {},
   "outputs": [
    {
     "data": {
      "text/plain": [
       "Index(['cod_tce', 'cod_processo', 'tipo_processo', 'cod_ato', 'tipo_ato',\n",
       "       'peca', 'caminho', 'conselheiro', 'texto', 'linhas', 'decisao_tipo',\n",
       "       'decisao_numero', 'decisao_ano', 'info_processuais', 'ementa',\n",
       "       'sumario', 'tamanho_ementa'],\n",
       "      dtype='object')"
      ]
     },
     "execution_count": 6,
     "metadata": {},
     "output_type": "execute_result"
    }
   ],
   "source": [
    "df_decisoes.columns"
   ]
  },
  {
   "cell_type": "code",
   "execution_count": 7,
   "metadata": {},
   "outputs": [],
   "source": [
    "df_decisoes = df_decisoes[['ementa']]"
   ]
  },
  {
   "cell_type": "code",
   "execution_count": 8,
   "metadata": {},
   "outputs": [
    {
     "name": "stdout",
     "output_type": "stream",
     "text": [
      "<class 'pandas.core.frame.DataFrame'>\n",
      "RangeIndex: 18921 entries, 0 to 18920\n",
      "Data columns (total 1 columns):\n",
      " #   Column  Non-Null Count  Dtype \n",
      "---  ------  --------------  ----- \n",
      " 0   ementa  18859 non-null  object\n",
      "dtypes: object(1)\n",
      "memory usage: 147.9+ KB\n"
     ]
    }
   ],
   "source": [
    "df_decisoes.info()"
   ]
  },
  {
   "cell_type": "code",
   "execution_count": 9,
   "metadata": {},
   "outputs": [
    {
     "data": {
      "text/html": [
       "<div>\n",
       "<style scoped>\n",
       "    .dataframe tbody tr th:only-of-type {\n",
       "        vertical-align: middle;\n",
       "    }\n",
       "\n",
       "    .dataframe tbody tr th {\n",
       "        vertical-align: top;\n",
       "    }\n",
       "\n",
       "    .dataframe thead th {\n",
       "        text-align: right;\n",
       "    }\n",
       "</style>\n",
       "<table border=\"1\" class=\"dataframe\">\n",
       "  <thead>\n",
       "    <tr style=\"text-align: right;\">\n",
       "      <th></th>\n",
       "      <th>ementa</th>\n",
       "    </tr>\n",
       "  </thead>\n",
       "  <tbody>\n",
       "    <tr>\n",
       "      <th>0</th>\n",
       "      <td>Denúncia contra a Prefeitura Municipal de\\nCal...</td>\n",
       "    </tr>\n",
       "    <tr>\n",
       "      <th>1</th>\n",
       "      <td>EMENTA: APOSENTADORIA VOLUNTÁRIA POR\\nIDADE E ...</td>\n",
       "    </tr>\n",
       "    <tr>\n",
       "      <th>2</th>\n",
       "      <td>EMENTA: RECURSO DE RECONSIDERAÇÃO. FALHAS QUE\\...</td>\n",
       "    </tr>\n",
       "    <tr>\n",
       "      <th>3</th>\n",
       "      <td>EMENTA. INSPEÇÃO ORDINÁRIA. VERIFICAÇÃO DE\\nRE...</td>\n",
       "    </tr>\n",
       "    <tr>\n",
       "      <th>4</th>\n",
       "      <td>Denúncia contra FUESPI. Unânime, concordando\\n...</td>\n",
       "    </tr>\n",
       "  </tbody>\n",
       "</table>\n",
       "</div>"
      ],
      "text/plain": [
       "                                              ementa\n",
       "0  Denúncia contra a Prefeitura Municipal de\\nCal...\n",
       "1  EMENTA: APOSENTADORIA VOLUNTÁRIA POR\\nIDADE E ...\n",
       "2  EMENTA: RECURSO DE RECONSIDERAÇÃO. FALHAS QUE\\...\n",
       "3  EMENTA. INSPEÇÃO ORDINÁRIA. VERIFICAÇÃO DE\\nRE...\n",
       "4  Denúncia contra FUESPI. Unânime, concordando\\n..."
      ]
     },
     "execution_count": 9,
     "metadata": {},
     "output_type": "execute_result"
    }
   ],
   "source": [
    "df_decisoes.head()"
   ]
  },
  {
   "cell_type": "markdown",
   "metadata": {},
   "source": [
    "## Normalizar texto"
   ]
  },
  {
   "cell_type": "code",
   "execution_count": 39,
   "metadata": {},
   "outputs": [],
   "source": [
    "#nlp_utils.pre_processing_pipeline(df.ementa)\n",
    "df_decisoes['ementa_limpa'] = df_decisoes.ementa.apply(lambda x: x.replace('\\n', ' ') if isinstance(x, str) else '')\n",
    "#df_decisoes['ementa_limpa'] = df_decisoes.loc[1].ementa.replace('\\n', ' ')\n",
    "#                                                       if isinstance(x, str) else '')\n",
    "df_decisoes['ementa_limpa'] = df_decisoes.ementa_limpa.apply(lambda x: nlp_utils.pre_processing_pipeline(x) \\\n",
    "                                                       if isinstance(x, str) else '')"
   ]
  },
  {
   "cell_type": "code",
   "execution_count": 42,
   "metadata": {},
   "outputs": [],
   "source": [
    "df_decisoes['ementa_limpa'] = df_decisoes.ementa_limpa.apply(lambda x: x.replace('ementa ', '') \\\n",
    "                                                             if isinstance(x, str) else '')"
   ]
  },
  {
   "cell_type": "code",
   "execution_count": 43,
   "metadata": {},
   "outputs": [
    {
     "data": {
      "text/html": [
       "<div>\n",
       "<style scoped>\n",
       "    .dataframe tbody tr th:only-of-type {\n",
       "        vertical-align: middle;\n",
       "    }\n",
       "\n",
       "    .dataframe tbody tr th {\n",
       "        vertical-align: top;\n",
       "    }\n",
       "\n",
       "    .dataframe thead th {\n",
       "        text-align: right;\n",
       "    }\n",
       "</style>\n",
       "<table border=\"1\" class=\"dataframe\">\n",
       "  <thead>\n",
       "    <tr style=\"text-align: right;\">\n",
       "      <th></th>\n",
       "      <th>ementa</th>\n",
       "      <th>ementa_limpa</th>\n",
       "    </tr>\n",
       "  </thead>\n",
       "  <tbody>\n",
       "    <tr>\n",
       "      <th>0</th>\n",
       "      <td>Denúncia contra a Prefeitura Municipal de\\nCal...</td>\n",
       "      <td>denuncia contra prefeitura municipal caldeirao...</td>\n",
       "    </tr>\n",
       "    <tr>\n",
       "      <th>1</th>\n",
       "      <td>EMENTA: APOSENTADORIA VOLUNTÁRIA POR\\nIDADE E ...</td>\n",
       "      <td>aposentadoria voluntaria por idade tempo contr...</td>\n",
       "    </tr>\n",
       "    <tr>\n",
       "      <th>2</th>\n",
       "      <td>EMENTA: RECURSO DE RECONSIDERAÇÃO. FALHAS QUE\\...</td>\n",
       "      <td>recurso reconsideracao falhas que nao ensejam ...</td>\n",
       "    </tr>\n",
       "    <tr>\n",
       "      <th>3</th>\n",
       "      <td>EMENTA. INSPEÇÃO ORDINÁRIA. VERIFICAÇÃO DE\\nRE...</td>\n",
       "      <td>inspecao ordinaria verificacao regularidade pr...</td>\n",
       "    </tr>\n",
       "    <tr>\n",
       "      <th>4</th>\n",
       "      <td>Denúncia contra FUESPI. Unânime, concordando\\n...</td>\n",
       "      <td>denuncia contra fuespi unanime concordando par...</td>\n",
       "    </tr>\n",
       "  </tbody>\n",
       "</table>\n",
       "</div>"
      ],
      "text/plain": [
       "                                              ementa  \\\n",
       "0  Denúncia contra a Prefeitura Municipal de\\nCal...   \n",
       "1  EMENTA: APOSENTADORIA VOLUNTÁRIA POR\\nIDADE E ...   \n",
       "2  EMENTA: RECURSO DE RECONSIDERAÇÃO. FALHAS QUE\\...   \n",
       "3  EMENTA. INSPEÇÃO ORDINÁRIA. VERIFICAÇÃO DE\\nRE...   \n",
       "4  Denúncia contra FUESPI. Unânime, concordando\\n...   \n",
       "\n",
       "                                        ementa_limpa  \n",
       "0  denuncia contra prefeitura municipal caldeirao...  \n",
       "1  aposentadoria voluntaria por idade tempo contr...  \n",
       "2  recurso reconsideracao falhas que nao ensejam ...  \n",
       "3  inspecao ordinaria verificacao regularidade pr...  \n",
       "4  denuncia contra fuespi unanime concordando par...  "
      ]
     },
     "execution_count": 43,
     "metadata": {},
     "output_type": "execute_result"
    }
   ],
   "source": [
    "df_decisoes.head()"
   ]
  },
  {
   "cell_type": "code",
   "execution_count": 45,
   "metadata": {},
   "outputs": [
    {
     "data": {
      "text/plain": [
       "(18921, 2)"
      ]
     },
     "execution_count": 45,
     "metadata": {},
     "output_type": "execute_result"
    }
   ],
   "source": [
    "df_decisoes.shape"
   ]
  },
  {
   "cell_type": "code",
   "execution_count": 47,
   "metadata": {},
   "outputs": [
    {
     "data": {
      "text/plain": [
       "0        denuncia contra prefeitura municipal caldeirao...\n",
       "1        aposentadoria voluntaria por idade tempo contr...\n",
       "2        recurso reconsideracao falhas que nao ensejam ...\n",
       "3        inspecao ordinaria verificacao regularidade pr...\n",
       "4        denuncia contra fuespi unanime concordando par...\n",
       "                               ...                        \n",
       "18916    denuncia formulada contra sra ana celia costa ...\n",
       "18917    processual tomada contas especial irregularida...\n",
       "18918    prestacao contas pedido bloqueio contas descum...\n",
       "18919    prestacao contas bloqueio contas ausencia pres...\n",
       "18920    aposentadoria ingresso servidor servico public...\n",
       "Name: ementa_limpa, Length: 18921, dtype: object"
      ]
     },
     "execution_count": 47,
     "metadata": {},
     "output_type": "execute_result"
    }
   ],
   "source": [
    "df_decisoes.ementa_limpa.dropna()"
   ]
  },
  {
   "cell_type": "markdown",
   "metadata": {},
   "source": [
    "## Exportar dados para csv"
   ]
  },
  {
   "cell_type": "code",
   "execution_count": 48,
   "metadata": {},
   "outputs": [],
   "source": [
    "caminho = Path(\"../../data/processed/tce_ementas_de_decisoes.csv\")\n",
    "df_decisoes.to_csv(caminho, index=False, sep=';')"
   ]
  },
  {
   "cell_type": "code",
   "execution_count": null,
   "metadata": {},
   "outputs": [],
   "source": []
  }
 ],
 "metadata": {
  "kernelspec": {
   "display_name": "Python 3.7.6 64-bit ('ocr': conda)",
   "language": "python",
   "name": "python37664bitocrcondaa482dcc5ccb14657a8e6f927a54e138a"
  },
  "language_info": {
   "codemirror_mode": {
    "name": "ipython",
    "version": 3
   },
   "file_extension": ".py",
   "mimetype": "text/x-python",
   "name": "python",
   "nbconvert_exporter": "python",
   "pygments_lexer": "ipython3",
   "version": "3.7.6"
  }
 },
 "nbformat": 4,
 "nbformat_minor": 2
}
